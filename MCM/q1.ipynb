{
 "cells": [
  {
   "cell_type": "code",
   "execution_count": 1,
   "metadata": {
    "collapsed": true
   },
   "outputs": [],
   "source": [
    "import numpy as np\n",
    "import pandas as pd\n",
    "import matplotlib.pyplot as plt\n",
    "from sklearn import preprocessing"
   ]
  },
  {
   "cell_type": "code",
   "execution_count": 2,
   "outputs": [],
   "source": [
    "df = pd.read_excel('./Attachment 1.xlsx')"
   ],
   "metadata": {
    "collapsed": false
   }
  },
  {
   "cell_type": "code",
   "execution_count": 3,
   "outputs": [
    {
     "data": {
      "text/plain": "      日期(年/月/日) (Date Y/M/D) 发货城市 (Delivering city) 收货城市 (Receiving city)  \\\n0                 2018-04-19                      A                     O   \n1                 2018-04-19                      S                     R   \n2                 2018-04-19                      S                     Q   \n3                 2018-04-19                      S                     L   \n4                 2018-04-19                      S                     I   \n...                      ...                    ...                   ...   \n16958             2019-04-17                      J                     H   \n16959             2019-04-17                      I                     J   \n16960             2019-04-17                      I                     E   \n16961             2019-04-17                      K                     H   \n16962             2019-04-17                      H                     L   \n\n       快递运输数量(件) (Express delivery quantity (PCS))  \n0                                               45  \n1                                               51  \n2                                               42  \n3                                               56  \n4                                               42  \n...                                            ...  \n16958                                           47  \n16959                                          220  \n16960                                           70  \n16961                                          241  \n16962                                           54  \n\n[16963 rows x 4 columns]",
      "text/html": "<div>\n<style scoped>\n    .dataframe tbody tr th:only-of-type {\n        vertical-align: middle;\n    }\n\n    .dataframe tbody tr th {\n        vertical-align: top;\n    }\n\n    .dataframe thead th {\n        text-align: right;\n    }\n</style>\n<table border=\"1\" class=\"dataframe\">\n  <thead>\n    <tr style=\"text-align: right;\">\n      <th></th>\n      <th>日期(年/月/日) (Date Y/M/D)</th>\n      <th>发货城市 (Delivering city)</th>\n      <th>收货城市 (Receiving city)</th>\n      <th>快递运输数量(件) (Express delivery quantity (PCS))</th>\n    </tr>\n  </thead>\n  <tbody>\n    <tr>\n      <th>0</th>\n      <td>2018-04-19</td>\n      <td>A</td>\n      <td>O</td>\n      <td>45</td>\n    </tr>\n    <tr>\n      <th>1</th>\n      <td>2018-04-19</td>\n      <td>S</td>\n      <td>R</td>\n      <td>51</td>\n    </tr>\n    <tr>\n      <th>2</th>\n      <td>2018-04-19</td>\n      <td>S</td>\n      <td>Q</td>\n      <td>42</td>\n    </tr>\n    <tr>\n      <th>3</th>\n      <td>2018-04-19</td>\n      <td>S</td>\n      <td>L</td>\n      <td>56</td>\n    </tr>\n    <tr>\n      <th>4</th>\n      <td>2018-04-19</td>\n      <td>S</td>\n      <td>I</td>\n      <td>42</td>\n    </tr>\n    <tr>\n      <th>...</th>\n      <td>...</td>\n      <td>...</td>\n      <td>...</td>\n      <td>...</td>\n    </tr>\n    <tr>\n      <th>16958</th>\n      <td>2019-04-17</td>\n      <td>J</td>\n      <td>H</td>\n      <td>47</td>\n    </tr>\n    <tr>\n      <th>16959</th>\n      <td>2019-04-17</td>\n      <td>I</td>\n      <td>J</td>\n      <td>220</td>\n    </tr>\n    <tr>\n      <th>16960</th>\n      <td>2019-04-17</td>\n      <td>I</td>\n      <td>E</td>\n      <td>70</td>\n    </tr>\n    <tr>\n      <th>16961</th>\n      <td>2019-04-17</td>\n      <td>K</td>\n      <td>H</td>\n      <td>241</td>\n    </tr>\n    <tr>\n      <th>16962</th>\n      <td>2019-04-17</td>\n      <td>H</td>\n      <td>L</td>\n      <td>54</td>\n    </tr>\n  </tbody>\n</table>\n<p>16963 rows × 4 columns</p>\n</div>"
     },
     "execution_count": 3,
     "metadata": {},
     "output_type": "execute_result"
    }
   ],
   "source": [
    "df"
   ],
   "metadata": {
    "collapsed": false
   }
  },
  {
   "cell_type": "code",
   "execution_count": 4,
   "outputs": [
    {
     "name": "stdout",
     "output_type": "stream",
     "text": [
      "<class 'pandas.core.frame.DataFrame'>\n",
      "RangeIndex: 16963 entries, 0 to 16962\n",
      "Data columns (total 4 columns):\n",
      " #   Column                                       Non-Null Count  Dtype         \n",
      "---  ------                                       --------------  -----         \n",
      " 0   日期(年/月/日) (Date Y/M/D)                       16963 non-null  datetime64[ns]\n",
      " 1   发货城市 (Delivering city)                       16963 non-null  object        \n",
      " 2   收货城市 (Receiving city)                        16963 non-null  object        \n",
      " 3   快递运输数量(件) (Express delivery quantity (PCS))  16963 non-null  int64         \n",
      "dtypes: datetime64[ns](1), int64(1), object(2)\n",
      "memory usage: 530.2+ KB\n"
     ]
    }
   ],
   "source": [
    "df.info()"
   ],
   "metadata": {
    "collapsed": false
   }
  },
  {
   "cell_type": "code",
   "execution_count": 5,
   "outputs": [
    {
     "data": {
      "text/plain": "              日期 发货城市 收货城市  快递运输数量\n0     2018-04-19    A    O      45\n1     2018-04-19    S    R      51\n2     2018-04-19    S    Q      42\n3     2018-04-19    S    L      56\n4     2018-04-19    S    I      42\n...          ...  ...  ...     ...\n16958 2019-04-17    J    H      47\n16959 2019-04-17    I    J     220\n16960 2019-04-17    I    E      70\n16961 2019-04-17    K    H     241\n16962 2019-04-17    H    L      54\n\n[16963 rows x 4 columns]",
      "text/html": "<div>\n<style scoped>\n    .dataframe tbody tr th:only-of-type {\n        vertical-align: middle;\n    }\n\n    .dataframe tbody tr th {\n        vertical-align: top;\n    }\n\n    .dataframe thead th {\n        text-align: right;\n    }\n</style>\n<table border=\"1\" class=\"dataframe\">\n  <thead>\n    <tr style=\"text-align: right;\">\n      <th></th>\n      <th>日期</th>\n      <th>发货城市</th>\n      <th>收货城市</th>\n      <th>快递运输数量</th>\n    </tr>\n  </thead>\n  <tbody>\n    <tr>\n      <th>0</th>\n      <td>2018-04-19</td>\n      <td>A</td>\n      <td>O</td>\n      <td>45</td>\n    </tr>\n    <tr>\n      <th>1</th>\n      <td>2018-04-19</td>\n      <td>S</td>\n      <td>R</td>\n      <td>51</td>\n    </tr>\n    <tr>\n      <th>2</th>\n      <td>2018-04-19</td>\n      <td>S</td>\n      <td>Q</td>\n      <td>42</td>\n    </tr>\n    <tr>\n      <th>3</th>\n      <td>2018-04-19</td>\n      <td>S</td>\n      <td>L</td>\n      <td>56</td>\n    </tr>\n    <tr>\n      <th>4</th>\n      <td>2018-04-19</td>\n      <td>S</td>\n      <td>I</td>\n      <td>42</td>\n    </tr>\n    <tr>\n      <th>...</th>\n      <td>...</td>\n      <td>...</td>\n      <td>...</td>\n      <td>...</td>\n    </tr>\n    <tr>\n      <th>16958</th>\n      <td>2019-04-17</td>\n      <td>J</td>\n      <td>H</td>\n      <td>47</td>\n    </tr>\n    <tr>\n      <th>16959</th>\n      <td>2019-04-17</td>\n      <td>I</td>\n      <td>J</td>\n      <td>220</td>\n    </tr>\n    <tr>\n      <th>16960</th>\n      <td>2019-04-17</td>\n      <td>I</td>\n      <td>E</td>\n      <td>70</td>\n    </tr>\n    <tr>\n      <th>16961</th>\n      <td>2019-04-17</td>\n      <td>K</td>\n      <td>H</td>\n      <td>241</td>\n    </tr>\n    <tr>\n      <th>16962</th>\n      <td>2019-04-17</td>\n      <td>H</td>\n      <td>L</td>\n      <td>54</td>\n    </tr>\n  </tbody>\n</table>\n<p>16963 rows × 4 columns</p>\n</div>"
     },
     "execution_count": 5,
     "metadata": {},
     "output_type": "execute_result"
    }
   ],
   "source": [
    "df.rename(columns={'日期(年/月/日) (Date Y/M/D)': '日期', '发货城市 (Delivering city)': '发货城市', '收货城市 (Receiving city)': '收货城市','快递运输数量(件) (Express delivery quantity (PCS))':'快递运输数量'})"
   ],
   "metadata": {
    "collapsed": false
   }
  },
  {
   "cell_type": "code",
   "execution_count": 6,
   "outputs": [],
   "source": [
    "df.rename(columns={'日期(年/月/日) (Date Y/M/D)': '日期', '发货城市 (Delivering city)': '发货城市', '收货城市 (Receiving city)': '收货城市','快递运输数量(件) (Express delivery quantity (PCS))':'快递运输数量'},inplace=True)"
   ],
   "metadata": {
    "collapsed": false
   }
  },
  {
   "cell_type": "code",
   "execution_count": 7,
   "outputs": [
    {
     "data": {
      "text/plain": "              日期 发货城市 收货城市  快递运输数量\n0     2018-04-19    A    O      45\n1     2018-04-19    S    R      51\n2     2018-04-19    S    Q      42\n3     2018-04-19    S    L      56\n4     2018-04-19    S    I      42\n...          ...  ...  ...     ...\n16958 2019-04-17    J    H      47\n16959 2019-04-17    I    J     220\n16960 2019-04-17    I    E      70\n16961 2019-04-17    K    H     241\n16962 2019-04-17    H    L      54\n\n[16963 rows x 4 columns]",
      "text/html": "<div>\n<style scoped>\n    .dataframe tbody tr th:only-of-type {\n        vertical-align: middle;\n    }\n\n    .dataframe tbody tr th {\n        vertical-align: top;\n    }\n\n    .dataframe thead th {\n        text-align: right;\n    }\n</style>\n<table border=\"1\" class=\"dataframe\">\n  <thead>\n    <tr style=\"text-align: right;\">\n      <th></th>\n      <th>日期</th>\n      <th>发货城市</th>\n      <th>收货城市</th>\n      <th>快递运输数量</th>\n    </tr>\n  </thead>\n  <tbody>\n    <tr>\n      <th>0</th>\n      <td>2018-04-19</td>\n      <td>A</td>\n      <td>O</td>\n      <td>45</td>\n    </tr>\n    <tr>\n      <th>1</th>\n      <td>2018-04-19</td>\n      <td>S</td>\n      <td>R</td>\n      <td>51</td>\n    </tr>\n    <tr>\n      <th>2</th>\n      <td>2018-04-19</td>\n      <td>S</td>\n      <td>Q</td>\n      <td>42</td>\n    </tr>\n    <tr>\n      <th>3</th>\n      <td>2018-04-19</td>\n      <td>S</td>\n      <td>L</td>\n      <td>56</td>\n    </tr>\n    <tr>\n      <th>4</th>\n      <td>2018-04-19</td>\n      <td>S</td>\n      <td>I</td>\n      <td>42</td>\n    </tr>\n    <tr>\n      <th>...</th>\n      <td>...</td>\n      <td>...</td>\n      <td>...</td>\n      <td>...</td>\n    </tr>\n    <tr>\n      <th>16958</th>\n      <td>2019-04-17</td>\n      <td>J</td>\n      <td>H</td>\n      <td>47</td>\n    </tr>\n    <tr>\n      <th>16959</th>\n      <td>2019-04-17</td>\n      <td>I</td>\n      <td>J</td>\n      <td>220</td>\n    </tr>\n    <tr>\n      <th>16960</th>\n      <td>2019-04-17</td>\n      <td>I</td>\n      <td>E</td>\n      <td>70</td>\n    </tr>\n    <tr>\n      <th>16961</th>\n      <td>2019-04-17</td>\n      <td>K</td>\n      <td>H</td>\n      <td>241</td>\n    </tr>\n    <tr>\n      <th>16962</th>\n      <td>2019-04-17</td>\n      <td>H</td>\n      <td>L</td>\n      <td>54</td>\n    </tr>\n  </tbody>\n</table>\n<p>16963 rows × 4 columns</p>\n</div>"
     },
     "execution_count": 7,
     "metadata": {},
     "output_type": "execute_result"
    }
   ],
   "source": [
    "df"
   ],
   "metadata": {
    "collapsed": false
   }
  },
  {
   "cell_type": "code",
   "execution_count": 8,
   "outputs": [
    {
     "name": "stdout",
     "output_type": "stream",
     "text": [
      "<class 'pandas.core.frame.DataFrame'>\n",
      "RangeIndex: 16963 entries, 0 to 16962\n",
      "Data columns (total 4 columns):\n",
      " #   Column  Non-Null Count  Dtype         \n",
      "---  ------  --------------  -----         \n",
      " 0   日期      16963 non-null  datetime64[ns]\n",
      " 1   发货城市    16963 non-null  object        \n",
      " 2   收货城市    16963 non-null  object        \n",
      " 3   快递运输数量  16963 non-null  int64         \n",
      "dtypes: datetime64[ns](1), int64(1), object(2)\n",
      "memory usage: 530.2+ KB\n"
     ]
    }
   ],
   "source": [
    "df.info()"
   ],
   "metadata": {
    "collapsed": false
   }
  },
  {
   "cell_type": "code",
   "execution_count": 9,
   "outputs": [],
   "source": [
    "# 将日期转换为datetime格式\n",
    "df['日期'] = pd.to_datetime(df['日期'], format='%Y/%m/%d')"
   ],
   "metadata": {
    "collapsed": false
   }
  },
  {
   "cell_type": "code",
   "execution_count": 10,
   "outputs": [],
   "source": [
    "# 计算每个城市每天的发货量和收货量\n",
    "df_deliver_daily = df.groupby(['发货城市', '日期'])['快递运输数量'].sum().reset_index().rename(columns={'快递运输数量': '发货量'})\n",
    "df_receive_daily = df.groupby(['收货城市', '日期'])['快递运输数量'].sum().reset_index().rename(columns={'快递运输数量': '收货量'})\n",
    "\n",
    "# 计算每个城市的单日最大发货量和单日最大收货量\n",
    "df_deliver_max = df_deliver_daily.groupby('发货城市')['发货量'].max().reset_index().rename(columns={'发货量': '单日最大发货量'})\n",
    "df_receive_max = df_receive_daily.groupby('收货城市')['收货量'].max().reset_index().rename(columns={'收货量': '单日最大收货量'})"
   ],
   "metadata": {
    "collapsed": false
   }
  },
  {
   "cell_type": "code",
   "execution_count": 11,
   "outputs": [
    {
     "data": {
      "text/plain": "   发货城市  单日最大发货量\n0     A      420\n1     B      340\n2     C      181\n3     D      303\n4     E      267\n5     G     2081\n6     H      559\n7     I      538\n8     J      834\n9     K      682\n10    L     2411\n11    M      510\n12    N      581\n13    O      859\n14    P      164\n15    Q      612\n16    R     1133\n17    S      648\n18    T      883\n19    U      431\n20    V     1218\n21    W      967\n22    X     1090\n23    Y      506",
      "text/html": "<div>\n<style scoped>\n    .dataframe tbody tr th:only-of-type {\n        vertical-align: middle;\n    }\n\n    .dataframe tbody tr th {\n        vertical-align: top;\n    }\n\n    .dataframe thead th {\n        text-align: right;\n    }\n</style>\n<table border=\"1\" class=\"dataframe\">\n  <thead>\n    <tr style=\"text-align: right;\">\n      <th></th>\n      <th>发货城市</th>\n      <th>单日最大发货量</th>\n    </tr>\n  </thead>\n  <tbody>\n    <tr>\n      <th>0</th>\n      <td>A</td>\n      <td>420</td>\n    </tr>\n    <tr>\n      <th>1</th>\n      <td>B</td>\n      <td>340</td>\n    </tr>\n    <tr>\n      <th>2</th>\n      <td>C</td>\n      <td>181</td>\n    </tr>\n    <tr>\n      <th>3</th>\n      <td>D</td>\n      <td>303</td>\n    </tr>\n    <tr>\n      <th>4</th>\n      <td>E</td>\n      <td>267</td>\n    </tr>\n    <tr>\n      <th>5</th>\n      <td>G</td>\n      <td>2081</td>\n    </tr>\n    <tr>\n      <th>6</th>\n      <td>H</td>\n      <td>559</td>\n    </tr>\n    <tr>\n      <th>7</th>\n      <td>I</td>\n      <td>538</td>\n    </tr>\n    <tr>\n      <th>8</th>\n      <td>J</td>\n      <td>834</td>\n    </tr>\n    <tr>\n      <th>9</th>\n      <td>K</td>\n      <td>682</td>\n    </tr>\n    <tr>\n      <th>10</th>\n      <td>L</td>\n      <td>2411</td>\n    </tr>\n    <tr>\n      <th>11</th>\n      <td>M</td>\n      <td>510</td>\n    </tr>\n    <tr>\n      <th>12</th>\n      <td>N</td>\n      <td>581</td>\n    </tr>\n    <tr>\n      <th>13</th>\n      <td>O</td>\n      <td>859</td>\n    </tr>\n    <tr>\n      <th>14</th>\n      <td>P</td>\n      <td>164</td>\n    </tr>\n    <tr>\n      <th>15</th>\n      <td>Q</td>\n      <td>612</td>\n    </tr>\n    <tr>\n      <th>16</th>\n      <td>R</td>\n      <td>1133</td>\n    </tr>\n    <tr>\n      <th>17</th>\n      <td>S</td>\n      <td>648</td>\n    </tr>\n    <tr>\n      <th>18</th>\n      <td>T</td>\n      <td>883</td>\n    </tr>\n    <tr>\n      <th>19</th>\n      <td>U</td>\n      <td>431</td>\n    </tr>\n    <tr>\n      <th>20</th>\n      <td>V</td>\n      <td>1218</td>\n    </tr>\n    <tr>\n      <th>21</th>\n      <td>W</td>\n      <td>967</td>\n    </tr>\n    <tr>\n      <th>22</th>\n      <td>X</td>\n      <td>1090</td>\n    </tr>\n    <tr>\n      <th>23</th>\n      <td>Y</td>\n      <td>506</td>\n    </tr>\n  </tbody>\n</table>\n</div>"
     },
     "execution_count": 11,
     "metadata": {},
     "output_type": "execute_result"
    }
   ],
   "source": [
    "df_deliver_max"
   ],
   "metadata": {
    "collapsed": false
   }
  },
  {
   "cell_type": "code",
   "execution_count": 12,
   "outputs": [
    {
     "data": {
      "text/plain": "   收货城市  单日最大收货量\n0     A      426\n1     B      455\n2     C      104\n3     D      376\n4     E      224\n5     G     2280\n6     H      531\n7     I      720\n8     J      895\n9     K      677\n10    L     2268\n11    M      567\n12    N      499\n13    O     1132\n14    P      136\n15    Q      949\n16    R     1060\n17    S      411\n18    U      265\n19    V     1478\n20    W      981\n21    X     1371\n22    Y      576",
      "text/html": "<div>\n<style scoped>\n    .dataframe tbody tr th:only-of-type {\n        vertical-align: middle;\n    }\n\n    .dataframe tbody tr th {\n        vertical-align: top;\n    }\n\n    .dataframe thead th {\n        text-align: right;\n    }\n</style>\n<table border=\"1\" class=\"dataframe\">\n  <thead>\n    <tr style=\"text-align: right;\">\n      <th></th>\n      <th>收货城市</th>\n      <th>单日最大收货量</th>\n    </tr>\n  </thead>\n  <tbody>\n    <tr>\n      <th>0</th>\n      <td>A</td>\n      <td>426</td>\n    </tr>\n    <tr>\n      <th>1</th>\n      <td>B</td>\n      <td>455</td>\n    </tr>\n    <tr>\n      <th>2</th>\n      <td>C</td>\n      <td>104</td>\n    </tr>\n    <tr>\n      <th>3</th>\n      <td>D</td>\n      <td>376</td>\n    </tr>\n    <tr>\n      <th>4</th>\n      <td>E</td>\n      <td>224</td>\n    </tr>\n    <tr>\n      <th>5</th>\n      <td>G</td>\n      <td>2280</td>\n    </tr>\n    <tr>\n      <th>6</th>\n      <td>H</td>\n      <td>531</td>\n    </tr>\n    <tr>\n      <th>7</th>\n      <td>I</td>\n      <td>720</td>\n    </tr>\n    <tr>\n      <th>8</th>\n      <td>J</td>\n      <td>895</td>\n    </tr>\n    <tr>\n      <th>9</th>\n      <td>K</td>\n      <td>677</td>\n    </tr>\n    <tr>\n      <th>10</th>\n      <td>L</td>\n      <td>2268</td>\n    </tr>\n    <tr>\n      <th>11</th>\n      <td>M</td>\n      <td>567</td>\n    </tr>\n    <tr>\n      <th>12</th>\n      <td>N</td>\n      <td>499</td>\n    </tr>\n    <tr>\n      <th>13</th>\n      <td>O</td>\n      <td>1132</td>\n    </tr>\n    <tr>\n      <th>14</th>\n      <td>P</td>\n      <td>136</td>\n    </tr>\n    <tr>\n      <th>15</th>\n      <td>Q</td>\n      <td>949</td>\n    </tr>\n    <tr>\n      <th>16</th>\n      <td>R</td>\n      <td>1060</td>\n    </tr>\n    <tr>\n      <th>17</th>\n      <td>S</td>\n      <td>411</td>\n    </tr>\n    <tr>\n      <th>18</th>\n      <td>U</td>\n      <td>265</td>\n    </tr>\n    <tr>\n      <th>19</th>\n      <td>V</td>\n      <td>1478</td>\n    </tr>\n    <tr>\n      <th>20</th>\n      <td>W</td>\n      <td>981</td>\n    </tr>\n    <tr>\n      <th>21</th>\n      <td>X</td>\n      <td>1371</td>\n    </tr>\n    <tr>\n      <th>22</th>\n      <td>Y</td>\n      <td>576</td>\n    </tr>\n  </tbody>\n</table>\n</div>"
     },
     "execution_count": 12,
     "metadata": {},
     "output_type": "execute_result"
    }
   ],
   "source": [
    "df_receive_max"
   ],
   "metadata": {
    "collapsed": false
   }
  },
  {
   "cell_type": "code",
   "execution_count": 13,
   "outputs": [],
   "source": [
    "df_city1 = pd.merge(df_deliver_max, df_receive_max, left_on='发货城市', right_on='收货城市', how='outer').fillna(0)"
   ],
   "metadata": {
    "collapsed": false
   }
  },
  {
   "cell_type": "code",
   "execution_count": 14,
   "outputs": [
    {
     "data": {
      "text/plain": "   发货城市  单日最大发货量 收货城市  单日最大收货量\n0     A      420    A    426.0\n1     B      340    B    455.0\n2     C      181    C    104.0\n3     D      303    D    376.0\n4     E      267    E    224.0\n5     G     2081    G   2280.0\n6     H      559    H    531.0\n7     I      538    I    720.0\n8     J      834    J    895.0\n9     K      682    K    677.0\n10    L     2411    L   2268.0\n11    M      510    M    567.0\n12    N      581    N    499.0\n13    O      859    O   1132.0\n14    P      164    P    136.0\n15    Q      612    Q    949.0\n16    R     1133    R   1060.0\n17    S      648    S    411.0\n18    T      883    0      0.0\n19    U      431    U    265.0\n20    V     1218    V   1478.0\n21    W      967    W    981.0\n22    X     1090    X   1371.0\n23    Y      506    Y    576.0",
      "text/html": "<div>\n<style scoped>\n    .dataframe tbody tr th:only-of-type {\n        vertical-align: middle;\n    }\n\n    .dataframe tbody tr th {\n        vertical-align: top;\n    }\n\n    .dataframe thead th {\n        text-align: right;\n    }\n</style>\n<table border=\"1\" class=\"dataframe\">\n  <thead>\n    <tr style=\"text-align: right;\">\n      <th></th>\n      <th>发货城市</th>\n      <th>单日最大发货量</th>\n      <th>收货城市</th>\n      <th>单日最大收货量</th>\n    </tr>\n  </thead>\n  <tbody>\n    <tr>\n      <th>0</th>\n      <td>A</td>\n      <td>420</td>\n      <td>A</td>\n      <td>426.0</td>\n    </tr>\n    <tr>\n      <th>1</th>\n      <td>B</td>\n      <td>340</td>\n      <td>B</td>\n      <td>455.0</td>\n    </tr>\n    <tr>\n      <th>2</th>\n      <td>C</td>\n      <td>181</td>\n      <td>C</td>\n      <td>104.0</td>\n    </tr>\n    <tr>\n      <th>3</th>\n      <td>D</td>\n      <td>303</td>\n      <td>D</td>\n      <td>376.0</td>\n    </tr>\n    <tr>\n      <th>4</th>\n      <td>E</td>\n      <td>267</td>\n      <td>E</td>\n      <td>224.0</td>\n    </tr>\n    <tr>\n      <th>5</th>\n      <td>G</td>\n      <td>2081</td>\n      <td>G</td>\n      <td>2280.0</td>\n    </tr>\n    <tr>\n      <th>6</th>\n      <td>H</td>\n      <td>559</td>\n      <td>H</td>\n      <td>531.0</td>\n    </tr>\n    <tr>\n      <th>7</th>\n      <td>I</td>\n      <td>538</td>\n      <td>I</td>\n      <td>720.0</td>\n    </tr>\n    <tr>\n      <th>8</th>\n      <td>J</td>\n      <td>834</td>\n      <td>J</td>\n      <td>895.0</td>\n    </tr>\n    <tr>\n      <th>9</th>\n      <td>K</td>\n      <td>682</td>\n      <td>K</td>\n      <td>677.0</td>\n    </tr>\n    <tr>\n      <th>10</th>\n      <td>L</td>\n      <td>2411</td>\n      <td>L</td>\n      <td>2268.0</td>\n    </tr>\n    <tr>\n      <th>11</th>\n      <td>M</td>\n      <td>510</td>\n      <td>M</td>\n      <td>567.0</td>\n    </tr>\n    <tr>\n      <th>12</th>\n      <td>N</td>\n      <td>581</td>\n      <td>N</td>\n      <td>499.0</td>\n    </tr>\n    <tr>\n      <th>13</th>\n      <td>O</td>\n      <td>859</td>\n      <td>O</td>\n      <td>1132.0</td>\n    </tr>\n    <tr>\n      <th>14</th>\n      <td>P</td>\n      <td>164</td>\n      <td>P</td>\n      <td>136.0</td>\n    </tr>\n    <tr>\n      <th>15</th>\n      <td>Q</td>\n      <td>612</td>\n      <td>Q</td>\n      <td>949.0</td>\n    </tr>\n    <tr>\n      <th>16</th>\n      <td>R</td>\n      <td>1133</td>\n      <td>R</td>\n      <td>1060.0</td>\n    </tr>\n    <tr>\n      <th>17</th>\n      <td>S</td>\n      <td>648</td>\n      <td>S</td>\n      <td>411.0</td>\n    </tr>\n    <tr>\n      <th>18</th>\n      <td>T</td>\n      <td>883</td>\n      <td>0</td>\n      <td>0.0</td>\n    </tr>\n    <tr>\n      <th>19</th>\n      <td>U</td>\n      <td>431</td>\n      <td>U</td>\n      <td>265.0</td>\n    </tr>\n    <tr>\n      <th>20</th>\n      <td>V</td>\n      <td>1218</td>\n      <td>V</td>\n      <td>1478.0</td>\n    </tr>\n    <tr>\n      <th>21</th>\n      <td>W</td>\n      <td>967</td>\n      <td>W</td>\n      <td>981.0</td>\n    </tr>\n    <tr>\n      <th>22</th>\n      <td>X</td>\n      <td>1090</td>\n      <td>X</td>\n      <td>1371.0</td>\n    </tr>\n    <tr>\n      <th>23</th>\n      <td>Y</td>\n      <td>506</td>\n      <td>Y</td>\n      <td>576.0</td>\n    </tr>\n  </tbody>\n</table>\n</div>"
     },
     "execution_count": 14,
     "metadata": {},
     "output_type": "execute_result"
    }
   ],
   "source": [
    "df_city1"
   ],
   "metadata": {
    "collapsed": false
   }
  },
  {
   "cell_type": "code",
   "execution_count": 15,
   "outputs": [],
   "source": [
    "df_city1.drop(['收货城市'],axis=1,inplace=True)"
   ],
   "metadata": {
    "collapsed": false
   }
  },
  {
   "cell_type": "code",
   "execution_count": 16,
   "outputs": [],
   "source": [
    "df_city1.rename(columns={'发货城市':'城市'},inplace=True)"
   ],
   "metadata": {
    "collapsed": false
   }
  },
  {
   "cell_type": "code",
   "execution_count": 17,
   "outputs": [
    {
     "data": {
      "text/plain": "   城市  单日最大发货量  单日最大收货量\n0   A      420    426.0\n1   B      340    455.0\n2   C      181    104.0\n3   D      303    376.0\n4   E      267    224.0\n5   G     2081   2280.0\n6   H      559    531.0\n7   I      538    720.0\n8   J      834    895.0\n9   K      682    677.0\n10  L     2411   2268.0\n11  M      510    567.0\n12  N      581    499.0\n13  O      859   1132.0\n14  P      164    136.0\n15  Q      612    949.0\n16  R     1133   1060.0\n17  S      648    411.0\n18  T      883      0.0\n19  U      431    265.0\n20  V     1218   1478.0\n21  W      967    981.0\n22  X     1090   1371.0\n23  Y      506    576.0",
      "text/html": "<div>\n<style scoped>\n    .dataframe tbody tr th:only-of-type {\n        vertical-align: middle;\n    }\n\n    .dataframe tbody tr th {\n        vertical-align: top;\n    }\n\n    .dataframe thead th {\n        text-align: right;\n    }\n</style>\n<table border=\"1\" class=\"dataframe\">\n  <thead>\n    <tr style=\"text-align: right;\">\n      <th></th>\n      <th>城市</th>\n      <th>单日最大发货量</th>\n      <th>单日最大收货量</th>\n    </tr>\n  </thead>\n  <tbody>\n    <tr>\n      <th>0</th>\n      <td>A</td>\n      <td>420</td>\n      <td>426.0</td>\n    </tr>\n    <tr>\n      <th>1</th>\n      <td>B</td>\n      <td>340</td>\n      <td>455.0</td>\n    </tr>\n    <tr>\n      <th>2</th>\n      <td>C</td>\n      <td>181</td>\n      <td>104.0</td>\n    </tr>\n    <tr>\n      <th>3</th>\n      <td>D</td>\n      <td>303</td>\n      <td>376.0</td>\n    </tr>\n    <tr>\n      <th>4</th>\n      <td>E</td>\n      <td>267</td>\n      <td>224.0</td>\n    </tr>\n    <tr>\n      <th>5</th>\n      <td>G</td>\n      <td>2081</td>\n      <td>2280.0</td>\n    </tr>\n    <tr>\n      <th>6</th>\n      <td>H</td>\n      <td>559</td>\n      <td>531.0</td>\n    </tr>\n    <tr>\n      <th>7</th>\n      <td>I</td>\n      <td>538</td>\n      <td>720.0</td>\n    </tr>\n    <tr>\n      <th>8</th>\n      <td>J</td>\n      <td>834</td>\n      <td>895.0</td>\n    </tr>\n    <tr>\n      <th>9</th>\n      <td>K</td>\n      <td>682</td>\n      <td>677.0</td>\n    </tr>\n    <tr>\n      <th>10</th>\n      <td>L</td>\n      <td>2411</td>\n      <td>2268.0</td>\n    </tr>\n    <tr>\n      <th>11</th>\n      <td>M</td>\n      <td>510</td>\n      <td>567.0</td>\n    </tr>\n    <tr>\n      <th>12</th>\n      <td>N</td>\n      <td>581</td>\n      <td>499.0</td>\n    </tr>\n    <tr>\n      <th>13</th>\n      <td>O</td>\n      <td>859</td>\n      <td>1132.0</td>\n    </tr>\n    <tr>\n      <th>14</th>\n      <td>P</td>\n      <td>164</td>\n      <td>136.0</td>\n    </tr>\n    <tr>\n      <th>15</th>\n      <td>Q</td>\n      <td>612</td>\n      <td>949.0</td>\n    </tr>\n    <tr>\n      <th>16</th>\n      <td>R</td>\n      <td>1133</td>\n      <td>1060.0</td>\n    </tr>\n    <tr>\n      <th>17</th>\n      <td>S</td>\n      <td>648</td>\n      <td>411.0</td>\n    </tr>\n    <tr>\n      <th>18</th>\n      <td>T</td>\n      <td>883</td>\n      <td>0.0</td>\n    </tr>\n    <tr>\n      <th>19</th>\n      <td>U</td>\n      <td>431</td>\n      <td>265.0</td>\n    </tr>\n    <tr>\n      <th>20</th>\n      <td>V</td>\n      <td>1218</td>\n      <td>1478.0</td>\n    </tr>\n    <tr>\n      <th>21</th>\n      <td>W</td>\n      <td>967</td>\n      <td>981.0</td>\n    </tr>\n    <tr>\n      <th>22</th>\n      <td>X</td>\n      <td>1090</td>\n      <td>1371.0</td>\n    </tr>\n    <tr>\n      <th>23</th>\n      <td>Y</td>\n      <td>506</td>\n      <td>576.0</td>\n    </tr>\n  </tbody>\n</table>\n</div>"
     },
     "execution_count": 17,
     "metadata": {},
     "output_type": "execute_result"
    }
   ],
   "source": [
    "df_city1"
   ],
   "metadata": {
    "collapsed": false
   }
  },
  {
   "cell_type": "code",
   "execution_count": 18,
   "outputs": [],
   "source": [
    "# 计算每个城市的发货量、收货量和快递总量\n",
    "df_deliver = df.groupby('发货城市')['快递运输数量'].sum().reset_index().rename(columns={'快递运输数量': '发货量'})\n",
    "df_receive = df.groupby('收货城市')['快递运输数量'].sum().reset_index().rename(columns={'快递运输数量': '收货量'})"
   ],
   "metadata": {
    "collapsed": false
   }
  },
  {
   "cell_type": "code",
   "execution_count": 19,
   "outputs": [
    {
     "data": {
      "text/plain": "   发货城市     发货量\n0     A   31276\n1     B   12458\n2     C   18361\n3     D   31135\n4     E   14643\n5     G  287248\n6     H   45866\n7     I   45100\n8     J   99173\n9     K   74841\n10    L  296846\n11    M   52041\n12    N   62359\n13    O   64986\n14    P   15419\n15    Q   60654\n16    R  109685\n17    S   56714\n18    T   32819\n19    U   40548\n20    V  164403\n21    W   69505\n22    X   89437\n23    Y   52758",
      "text/html": "<div>\n<style scoped>\n    .dataframe tbody tr th:only-of-type {\n        vertical-align: middle;\n    }\n\n    .dataframe tbody tr th {\n        vertical-align: top;\n    }\n\n    .dataframe thead th {\n        text-align: right;\n    }\n</style>\n<table border=\"1\" class=\"dataframe\">\n  <thead>\n    <tr style=\"text-align: right;\">\n      <th></th>\n      <th>发货城市</th>\n      <th>发货量</th>\n    </tr>\n  </thead>\n  <tbody>\n    <tr>\n      <th>0</th>\n      <td>A</td>\n      <td>31276</td>\n    </tr>\n    <tr>\n      <th>1</th>\n      <td>B</td>\n      <td>12458</td>\n    </tr>\n    <tr>\n      <th>2</th>\n      <td>C</td>\n      <td>18361</td>\n    </tr>\n    <tr>\n      <th>3</th>\n      <td>D</td>\n      <td>31135</td>\n    </tr>\n    <tr>\n      <th>4</th>\n      <td>E</td>\n      <td>14643</td>\n    </tr>\n    <tr>\n      <th>5</th>\n      <td>G</td>\n      <td>287248</td>\n    </tr>\n    <tr>\n      <th>6</th>\n      <td>H</td>\n      <td>45866</td>\n    </tr>\n    <tr>\n      <th>7</th>\n      <td>I</td>\n      <td>45100</td>\n    </tr>\n    <tr>\n      <th>8</th>\n      <td>J</td>\n      <td>99173</td>\n    </tr>\n    <tr>\n      <th>9</th>\n      <td>K</td>\n      <td>74841</td>\n    </tr>\n    <tr>\n      <th>10</th>\n      <td>L</td>\n      <td>296846</td>\n    </tr>\n    <tr>\n      <th>11</th>\n      <td>M</td>\n      <td>52041</td>\n    </tr>\n    <tr>\n      <th>12</th>\n      <td>N</td>\n      <td>62359</td>\n    </tr>\n    <tr>\n      <th>13</th>\n      <td>O</td>\n      <td>64986</td>\n    </tr>\n    <tr>\n      <th>14</th>\n      <td>P</td>\n      <td>15419</td>\n    </tr>\n    <tr>\n      <th>15</th>\n      <td>Q</td>\n      <td>60654</td>\n    </tr>\n    <tr>\n      <th>16</th>\n      <td>R</td>\n      <td>109685</td>\n    </tr>\n    <tr>\n      <th>17</th>\n      <td>S</td>\n      <td>56714</td>\n    </tr>\n    <tr>\n      <th>18</th>\n      <td>T</td>\n      <td>32819</td>\n    </tr>\n    <tr>\n      <th>19</th>\n      <td>U</td>\n      <td>40548</td>\n    </tr>\n    <tr>\n      <th>20</th>\n      <td>V</td>\n      <td>164403</td>\n    </tr>\n    <tr>\n      <th>21</th>\n      <td>W</td>\n      <td>69505</td>\n    </tr>\n    <tr>\n      <th>22</th>\n      <td>X</td>\n      <td>89437</td>\n    </tr>\n    <tr>\n      <th>23</th>\n      <td>Y</td>\n      <td>52758</td>\n    </tr>\n  </tbody>\n</table>\n</div>"
     },
     "execution_count": 19,
     "metadata": {},
     "output_type": "execute_result"
    }
   ],
   "source": [
    "df_deliver"
   ],
   "metadata": {
    "collapsed": false
   }
  },
  {
   "cell_type": "code",
   "execution_count": 20,
   "outputs": [
    {
     "data": {
      "text/plain": "   收货城市     收货量\n0     A   51708\n1     B   15624\n2     C   13228\n3     D   52401\n4     E   20055\n5     G  273737\n6     H   47155\n7     I   50855\n8     J   98557\n9     K   71003\n10    L  311289\n11    M   47609\n12    N   44445\n13    O   87091\n14    P   13357\n15    Q   81076\n16    R   91333\n17    S   37140\n18    U   24339\n19    V  192823\n20    W   77336\n21    X   84303\n22    Y   41811",
      "text/html": "<div>\n<style scoped>\n    .dataframe tbody tr th:only-of-type {\n        vertical-align: middle;\n    }\n\n    .dataframe tbody tr th {\n        vertical-align: top;\n    }\n\n    .dataframe thead th {\n        text-align: right;\n    }\n</style>\n<table border=\"1\" class=\"dataframe\">\n  <thead>\n    <tr style=\"text-align: right;\">\n      <th></th>\n      <th>收货城市</th>\n      <th>收货量</th>\n    </tr>\n  </thead>\n  <tbody>\n    <tr>\n      <th>0</th>\n      <td>A</td>\n      <td>51708</td>\n    </tr>\n    <tr>\n      <th>1</th>\n      <td>B</td>\n      <td>15624</td>\n    </tr>\n    <tr>\n      <th>2</th>\n      <td>C</td>\n      <td>13228</td>\n    </tr>\n    <tr>\n      <th>3</th>\n      <td>D</td>\n      <td>52401</td>\n    </tr>\n    <tr>\n      <th>4</th>\n      <td>E</td>\n      <td>20055</td>\n    </tr>\n    <tr>\n      <th>5</th>\n      <td>G</td>\n      <td>273737</td>\n    </tr>\n    <tr>\n      <th>6</th>\n      <td>H</td>\n      <td>47155</td>\n    </tr>\n    <tr>\n      <th>7</th>\n      <td>I</td>\n      <td>50855</td>\n    </tr>\n    <tr>\n      <th>8</th>\n      <td>J</td>\n      <td>98557</td>\n    </tr>\n    <tr>\n      <th>9</th>\n      <td>K</td>\n      <td>71003</td>\n    </tr>\n    <tr>\n      <th>10</th>\n      <td>L</td>\n      <td>311289</td>\n    </tr>\n    <tr>\n      <th>11</th>\n      <td>M</td>\n      <td>47609</td>\n    </tr>\n    <tr>\n      <th>12</th>\n      <td>N</td>\n      <td>44445</td>\n    </tr>\n    <tr>\n      <th>13</th>\n      <td>O</td>\n      <td>87091</td>\n    </tr>\n    <tr>\n      <th>14</th>\n      <td>P</td>\n      <td>13357</td>\n    </tr>\n    <tr>\n      <th>15</th>\n      <td>Q</td>\n      <td>81076</td>\n    </tr>\n    <tr>\n      <th>16</th>\n      <td>R</td>\n      <td>91333</td>\n    </tr>\n    <tr>\n      <th>17</th>\n      <td>S</td>\n      <td>37140</td>\n    </tr>\n    <tr>\n      <th>18</th>\n      <td>U</td>\n      <td>24339</td>\n    </tr>\n    <tr>\n      <th>19</th>\n      <td>V</td>\n      <td>192823</td>\n    </tr>\n    <tr>\n      <th>20</th>\n      <td>W</td>\n      <td>77336</td>\n    </tr>\n    <tr>\n      <th>21</th>\n      <td>X</td>\n      <td>84303</td>\n    </tr>\n    <tr>\n      <th>22</th>\n      <td>Y</td>\n      <td>41811</td>\n    </tr>\n  </tbody>\n</table>\n</div>"
     },
     "execution_count": 20,
     "metadata": {},
     "output_type": "execute_result"
    }
   ],
   "source": [
    "df_receive"
   ],
   "metadata": {
    "collapsed": false
   }
  },
  {
   "cell_type": "code",
   "execution_count": 21,
   "outputs": [],
   "source": [
    "df_city2 = pd.merge(df_deliver, df_receive, left_on='发货城市', right_on='收货城市', how='outer').fillna(0)"
   ],
   "metadata": {
    "collapsed": false
   }
  },
  {
   "cell_type": "code",
   "execution_count": 22,
   "outputs": [],
   "source": [
    "df_city2['快递总量'] = df_city2['发货量'] + df_city2['收货量']"
   ],
   "metadata": {
    "collapsed": false
   }
  },
  {
   "cell_type": "code",
   "execution_count": 23,
   "outputs": [],
   "source": [
    "df_city2.drop(['收货城市'],axis=1,inplace=True)"
   ],
   "metadata": {
    "collapsed": false
   }
  },
  {
   "cell_type": "code",
   "execution_count": 24,
   "outputs": [],
   "source": [
    "df_city2.rename(columns={'发货城市':'城市'},inplace=True)"
   ],
   "metadata": {
    "collapsed": false
   }
  },
  {
   "cell_type": "code",
   "execution_count": 25,
   "outputs": [
    {
     "data": {
      "text/plain": "   城市     发货量       收货量      快递总量\n0   A   31276   51708.0   82984.0\n1   B   12458   15624.0   28082.0\n2   C   18361   13228.0   31589.0\n3   D   31135   52401.0   83536.0\n4   E   14643   20055.0   34698.0\n5   G  287248  273737.0  560985.0\n6   H   45866   47155.0   93021.0\n7   I   45100   50855.0   95955.0\n8   J   99173   98557.0  197730.0\n9   K   74841   71003.0  145844.0\n10  L  296846  311289.0  608135.0\n11  M   52041   47609.0   99650.0\n12  N   62359   44445.0  106804.0\n13  O   64986   87091.0  152077.0\n14  P   15419   13357.0   28776.0\n15  Q   60654   81076.0  141730.0\n16  R  109685   91333.0  201018.0\n17  S   56714   37140.0   93854.0\n18  T   32819       0.0   32819.0\n19  U   40548   24339.0   64887.0\n20  V  164403  192823.0  357226.0\n21  W   69505   77336.0  146841.0\n22  X   89437   84303.0  173740.0\n23  Y   52758   41811.0   94569.0",
      "text/html": "<div>\n<style scoped>\n    .dataframe tbody tr th:only-of-type {\n        vertical-align: middle;\n    }\n\n    .dataframe tbody tr th {\n        vertical-align: top;\n    }\n\n    .dataframe thead th {\n        text-align: right;\n    }\n</style>\n<table border=\"1\" class=\"dataframe\">\n  <thead>\n    <tr style=\"text-align: right;\">\n      <th></th>\n      <th>城市</th>\n      <th>发货量</th>\n      <th>收货量</th>\n      <th>快递总量</th>\n    </tr>\n  </thead>\n  <tbody>\n    <tr>\n      <th>0</th>\n      <td>A</td>\n      <td>31276</td>\n      <td>51708.0</td>\n      <td>82984.0</td>\n    </tr>\n    <tr>\n      <th>1</th>\n      <td>B</td>\n      <td>12458</td>\n      <td>15624.0</td>\n      <td>28082.0</td>\n    </tr>\n    <tr>\n      <th>2</th>\n      <td>C</td>\n      <td>18361</td>\n      <td>13228.0</td>\n      <td>31589.0</td>\n    </tr>\n    <tr>\n      <th>3</th>\n      <td>D</td>\n      <td>31135</td>\n      <td>52401.0</td>\n      <td>83536.0</td>\n    </tr>\n    <tr>\n      <th>4</th>\n      <td>E</td>\n      <td>14643</td>\n      <td>20055.0</td>\n      <td>34698.0</td>\n    </tr>\n    <tr>\n      <th>5</th>\n      <td>G</td>\n      <td>287248</td>\n      <td>273737.0</td>\n      <td>560985.0</td>\n    </tr>\n    <tr>\n      <th>6</th>\n      <td>H</td>\n      <td>45866</td>\n      <td>47155.0</td>\n      <td>93021.0</td>\n    </tr>\n    <tr>\n      <th>7</th>\n      <td>I</td>\n      <td>45100</td>\n      <td>50855.0</td>\n      <td>95955.0</td>\n    </tr>\n    <tr>\n      <th>8</th>\n      <td>J</td>\n      <td>99173</td>\n      <td>98557.0</td>\n      <td>197730.0</td>\n    </tr>\n    <tr>\n      <th>9</th>\n      <td>K</td>\n      <td>74841</td>\n      <td>71003.0</td>\n      <td>145844.0</td>\n    </tr>\n    <tr>\n      <th>10</th>\n      <td>L</td>\n      <td>296846</td>\n      <td>311289.0</td>\n      <td>608135.0</td>\n    </tr>\n    <tr>\n      <th>11</th>\n      <td>M</td>\n      <td>52041</td>\n      <td>47609.0</td>\n      <td>99650.0</td>\n    </tr>\n    <tr>\n      <th>12</th>\n      <td>N</td>\n      <td>62359</td>\n      <td>44445.0</td>\n      <td>106804.0</td>\n    </tr>\n    <tr>\n      <th>13</th>\n      <td>O</td>\n      <td>64986</td>\n      <td>87091.0</td>\n      <td>152077.0</td>\n    </tr>\n    <tr>\n      <th>14</th>\n      <td>P</td>\n      <td>15419</td>\n      <td>13357.0</td>\n      <td>28776.0</td>\n    </tr>\n    <tr>\n      <th>15</th>\n      <td>Q</td>\n      <td>60654</td>\n      <td>81076.0</td>\n      <td>141730.0</td>\n    </tr>\n    <tr>\n      <th>16</th>\n      <td>R</td>\n      <td>109685</td>\n      <td>91333.0</td>\n      <td>201018.0</td>\n    </tr>\n    <tr>\n      <th>17</th>\n      <td>S</td>\n      <td>56714</td>\n      <td>37140.0</td>\n      <td>93854.0</td>\n    </tr>\n    <tr>\n      <th>18</th>\n      <td>T</td>\n      <td>32819</td>\n      <td>0.0</td>\n      <td>32819.0</td>\n    </tr>\n    <tr>\n      <th>19</th>\n      <td>U</td>\n      <td>40548</td>\n      <td>24339.0</td>\n      <td>64887.0</td>\n    </tr>\n    <tr>\n      <th>20</th>\n      <td>V</td>\n      <td>164403</td>\n      <td>192823.0</td>\n      <td>357226.0</td>\n    </tr>\n    <tr>\n      <th>21</th>\n      <td>W</td>\n      <td>69505</td>\n      <td>77336.0</td>\n      <td>146841.0</td>\n    </tr>\n    <tr>\n      <th>22</th>\n      <td>X</td>\n      <td>89437</td>\n      <td>84303.0</td>\n      <td>173740.0</td>\n    </tr>\n    <tr>\n      <th>23</th>\n      <td>Y</td>\n      <td>52758</td>\n      <td>41811.0</td>\n      <td>94569.0</td>\n    </tr>\n  </tbody>\n</table>\n</div>"
     },
     "execution_count": 25,
     "metadata": {},
     "output_type": "execute_result"
    }
   ],
   "source": [
    "df_city2"
   ],
   "metadata": {
    "collapsed": false
   }
  },
  {
   "cell_type": "code",
   "execution_count": 26,
   "outputs": [],
   "source": [
    "df_city = pd.merge(df_city1, df_city2, on='城市')"
   ],
   "metadata": {
    "collapsed": false
   }
  },
  {
   "cell_type": "code",
   "execution_count": 27,
   "outputs": [
    {
     "data": {
      "text/plain": "   城市  单日最大发货量  单日最大收货量     发货量       收货量      快递总量\n0   A      420    426.0   31276   51708.0   82984.0\n1   B      340    455.0   12458   15624.0   28082.0\n2   C      181    104.0   18361   13228.0   31589.0\n3   D      303    376.0   31135   52401.0   83536.0\n4   E      267    224.0   14643   20055.0   34698.0\n5   G     2081   2280.0  287248  273737.0  560985.0\n6   H      559    531.0   45866   47155.0   93021.0\n7   I      538    720.0   45100   50855.0   95955.0\n8   J      834    895.0   99173   98557.0  197730.0\n9   K      682    677.0   74841   71003.0  145844.0\n10  L     2411   2268.0  296846  311289.0  608135.0\n11  M      510    567.0   52041   47609.0   99650.0\n12  N      581    499.0   62359   44445.0  106804.0\n13  O      859   1132.0   64986   87091.0  152077.0\n14  P      164    136.0   15419   13357.0   28776.0\n15  Q      612    949.0   60654   81076.0  141730.0\n16  R     1133   1060.0  109685   91333.0  201018.0\n17  S      648    411.0   56714   37140.0   93854.0\n18  T      883      0.0   32819       0.0   32819.0\n19  U      431    265.0   40548   24339.0   64887.0\n20  V     1218   1478.0  164403  192823.0  357226.0\n21  W      967    981.0   69505   77336.0  146841.0\n22  X     1090   1371.0   89437   84303.0  173740.0\n23  Y      506    576.0   52758   41811.0   94569.0",
      "text/html": "<div>\n<style scoped>\n    .dataframe tbody tr th:only-of-type {\n        vertical-align: middle;\n    }\n\n    .dataframe tbody tr th {\n        vertical-align: top;\n    }\n\n    .dataframe thead th {\n        text-align: right;\n    }\n</style>\n<table border=\"1\" class=\"dataframe\">\n  <thead>\n    <tr style=\"text-align: right;\">\n      <th></th>\n      <th>城市</th>\n      <th>单日最大发货量</th>\n      <th>单日最大收货量</th>\n      <th>发货量</th>\n      <th>收货量</th>\n      <th>快递总量</th>\n    </tr>\n  </thead>\n  <tbody>\n    <tr>\n      <th>0</th>\n      <td>A</td>\n      <td>420</td>\n      <td>426.0</td>\n      <td>31276</td>\n      <td>51708.0</td>\n      <td>82984.0</td>\n    </tr>\n    <tr>\n      <th>1</th>\n      <td>B</td>\n      <td>340</td>\n      <td>455.0</td>\n      <td>12458</td>\n      <td>15624.0</td>\n      <td>28082.0</td>\n    </tr>\n    <tr>\n      <th>2</th>\n      <td>C</td>\n      <td>181</td>\n      <td>104.0</td>\n      <td>18361</td>\n      <td>13228.0</td>\n      <td>31589.0</td>\n    </tr>\n    <tr>\n      <th>3</th>\n      <td>D</td>\n      <td>303</td>\n      <td>376.0</td>\n      <td>31135</td>\n      <td>52401.0</td>\n      <td>83536.0</td>\n    </tr>\n    <tr>\n      <th>4</th>\n      <td>E</td>\n      <td>267</td>\n      <td>224.0</td>\n      <td>14643</td>\n      <td>20055.0</td>\n      <td>34698.0</td>\n    </tr>\n    <tr>\n      <th>5</th>\n      <td>G</td>\n      <td>2081</td>\n      <td>2280.0</td>\n      <td>287248</td>\n      <td>273737.0</td>\n      <td>560985.0</td>\n    </tr>\n    <tr>\n      <th>6</th>\n      <td>H</td>\n      <td>559</td>\n      <td>531.0</td>\n      <td>45866</td>\n      <td>47155.0</td>\n      <td>93021.0</td>\n    </tr>\n    <tr>\n      <th>7</th>\n      <td>I</td>\n      <td>538</td>\n      <td>720.0</td>\n      <td>45100</td>\n      <td>50855.0</td>\n      <td>95955.0</td>\n    </tr>\n    <tr>\n      <th>8</th>\n      <td>J</td>\n      <td>834</td>\n      <td>895.0</td>\n      <td>99173</td>\n      <td>98557.0</td>\n      <td>197730.0</td>\n    </tr>\n    <tr>\n      <th>9</th>\n      <td>K</td>\n      <td>682</td>\n      <td>677.0</td>\n      <td>74841</td>\n      <td>71003.0</td>\n      <td>145844.0</td>\n    </tr>\n    <tr>\n      <th>10</th>\n      <td>L</td>\n      <td>2411</td>\n      <td>2268.0</td>\n      <td>296846</td>\n      <td>311289.0</td>\n      <td>608135.0</td>\n    </tr>\n    <tr>\n      <th>11</th>\n      <td>M</td>\n      <td>510</td>\n      <td>567.0</td>\n      <td>52041</td>\n      <td>47609.0</td>\n      <td>99650.0</td>\n    </tr>\n    <tr>\n      <th>12</th>\n      <td>N</td>\n      <td>581</td>\n      <td>499.0</td>\n      <td>62359</td>\n      <td>44445.0</td>\n      <td>106804.0</td>\n    </tr>\n    <tr>\n      <th>13</th>\n      <td>O</td>\n      <td>859</td>\n      <td>1132.0</td>\n      <td>64986</td>\n      <td>87091.0</td>\n      <td>152077.0</td>\n    </tr>\n    <tr>\n      <th>14</th>\n      <td>P</td>\n      <td>164</td>\n      <td>136.0</td>\n      <td>15419</td>\n      <td>13357.0</td>\n      <td>28776.0</td>\n    </tr>\n    <tr>\n      <th>15</th>\n      <td>Q</td>\n      <td>612</td>\n      <td>949.0</td>\n      <td>60654</td>\n      <td>81076.0</td>\n      <td>141730.0</td>\n    </tr>\n    <tr>\n      <th>16</th>\n      <td>R</td>\n      <td>1133</td>\n      <td>1060.0</td>\n      <td>109685</td>\n      <td>91333.0</td>\n      <td>201018.0</td>\n    </tr>\n    <tr>\n      <th>17</th>\n      <td>S</td>\n      <td>648</td>\n      <td>411.0</td>\n      <td>56714</td>\n      <td>37140.0</td>\n      <td>93854.0</td>\n    </tr>\n    <tr>\n      <th>18</th>\n      <td>T</td>\n      <td>883</td>\n      <td>0.0</td>\n      <td>32819</td>\n      <td>0.0</td>\n      <td>32819.0</td>\n    </tr>\n    <tr>\n      <th>19</th>\n      <td>U</td>\n      <td>431</td>\n      <td>265.0</td>\n      <td>40548</td>\n      <td>24339.0</td>\n      <td>64887.0</td>\n    </tr>\n    <tr>\n      <th>20</th>\n      <td>V</td>\n      <td>1218</td>\n      <td>1478.0</td>\n      <td>164403</td>\n      <td>192823.0</td>\n      <td>357226.0</td>\n    </tr>\n    <tr>\n      <th>21</th>\n      <td>W</td>\n      <td>967</td>\n      <td>981.0</td>\n      <td>69505</td>\n      <td>77336.0</td>\n      <td>146841.0</td>\n    </tr>\n    <tr>\n      <th>22</th>\n      <td>X</td>\n      <td>1090</td>\n      <td>1371.0</td>\n      <td>89437</td>\n      <td>84303.0</td>\n      <td>173740.0</td>\n    </tr>\n    <tr>\n      <th>23</th>\n      <td>Y</td>\n      <td>506</td>\n      <td>576.0</td>\n      <td>52758</td>\n      <td>41811.0</td>\n      <td>94569.0</td>\n    </tr>\n  </tbody>\n</table>\n</div>"
     },
     "execution_count": 27,
     "metadata": {},
     "output_type": "execute_result"
    }
   ],
   "source": [
    "df_city"
   ],
   "metadata": {
    "collapsed": false
   }
  },
  {
   "cell_type": "code",
   "execution_count": 28,
   "outputs": [],
   "source": [
    "# 计算每个城市的快递数量增长速度\n",
    "# 按照发货城市和日期进行分组\n",
    "df_grouped = df.groupby(['发货城市', '日期'])"
   ],
   "metadata": {
    "collapsed": false
   }
  },
  {
   "cell_type": "code",
   "execution_count": 29,
   "outputs": [],
   "source": [
    "# 计算每个分组中的快递总量并排序\n",
    "df_sorted = df_grouped['快递运输数量'].sum().reset_index().sort_values(['发货城市', '日期']).rename(columns={'发货城市': '城市'})"
   ],
   "metadata": {
    "collapsed": false
   }
  },
  {
   "cell_type": "code",
   "execution_count": 30,
   "outputs": [
    {
     "data": {
      "text/plain": "     城市         日期  快递运输数量\n0     A 2018-04-19      89\n1     A 2018-04-20      87\n2     A 2018-04-21      87\n3     A 2018-04-22      42\n4     A 2018-04-23      85\n...  ..        ...     ...\n5012  Y 2019-04-12     386\n5013  Y 2019-04-13     487\n5014  Y 2019-04-14     481\n5015  Y 2019-04-15     449\n5016  Y 2019-04-16      99\n\n[5017 rows x 3 columns]",
      "text/html": "<div>\n<style scoped>\n    .dataframe tbody tr th:only-of-type {\n        vertical-align: middle;\n    }\n\n    .dataframe tbody tr th {\n        vertical-align: top;\n    }\n\n    .dataframe thead th {\n        text-align: right;\n    }\n</style>\n<table border=\"1\" class=\"dataframe\">\n  <thead>\n    <tr style=\"text-align: right;\">\n      <th></th>\n      <th>城市</th>\n      <th>日期</th>\n      <th>快递运输数量</th>\n    </tr>\n  </thead>\n  <tbody>\n    <tr>\n      <th>0</th>\n      <td>A</td>\n      <td>2018-04-19</td>\n      <td>89</td>\n    </tr>\n    <tr>\n      <th>1</th>\n      <td>A</td>\n      <td>2018-04-20</td>\n      <td>87</td>\n    </tr>\n    <tr>\n      <th>2</th>\n      <td>A</td>\n      <td>2018-04-21</td>\n      <td>87</td>\n    </tr>\n    <tr>\n      <th>3</th>\n      <td>A</td>\n      <td>2018-04-22</td>\n      <td>42</td>\n    </tr>\n    <tr>\n      <th>4</th>\n      <td>A</td>\n      <td>2018-04-23</td>\n      <td>85</td>\n    </tr>\n    <tr>\n      <th>...</th>\n      <td>...</td>\n      <td>...</td>\n      <td>...</td>\n    </tr>\n    <tr>\n      <th>5012</th>\n      <td>Y</td>\n      <td>2019-04-12</td>\n      <td>386</td>\n    </tr>\n    <tr>\n      <th>5013</th>\n      <td>Y</td>\n      <td>2019-04-13</td>\n      <td>487</td>\n    </tr>\n    <tr>\n      <th>5014</th>\n      <td>Y</td>\n      <td>2019-04-14</td>\n      <td>481</td>\n    </tr>\n    <tr>\n      <th>5015</th>\n      <td>Y</td>\n      <td>2019-04-15</td>\n      <td>449</td>\n    </tr>\n    <tr>\n      <th>5016</th>\n      <td>Y</td>\n      <td>2019-04-16</td>\n      <td>99</td>\n    </tr>\n  </tbody>\n</table>\n<p>5017 rows × 3 columns</p>\n</div>"
     },
     "execution_count": 30,
     "metadata": {},
     "output_type": "execute_result"
    }
   ],
   "source": [
    "df_sorted"
   ],
   "metadata": {
    "collapsed": false
   }
  },
  {
   "cell_type": "code",
   "execution_count": 31,
   "outputs": [],
   "source": [
    "df_sorted = df_sorted[df_sorted['快递运输数量'] != 0]"
   ],
   "metadata": {
    "collapsed": false
   }
  },
  {
   "cell_type": "code",
   "execution_count": 32,
   "outputs": [
    {
     "data": {
      "text/plain": "     城市         日期  快递运输数量\n0     A 2018-04-19      89\n1     A 2018-04-20      87\n2     A 2018-04-21      87\n3     A 2018-04-22      42\n4     A 2018-04-23      85\n...  ..        ...     ...\n5012  Y 2019-04-12     386\n5013  Y 2019-04-13     487\n5014  Y 2019-04-14     481\n5015  Y 2019-04-15     449\n5016  Y 2019-04-16      99\n\n[4902 rows x 3 columns]",
      "text/html": "<div>\n<style scoped>\n    .dataframe tbody tr th:only-of-type {\n        vertical-align: middle;\n    }\n\n    .dataframe tbody tr th {\n        vertical-align: top;\n    }\n\n    .dataframe thead th {\n        text-align: right;\n    }\n</style>\n<table border=\"1\" class=\"dataframe\">\n  <thead>\n    <tr style=\"text-align: right;\">\n      <th></th>\n      <th>城市</th>\n      <th>日期</th>\n      <th>快递运输数量</th>\n    </tr>\n  </thead>\n  <tbody>\n    <tr>\n      <th>0</th>\n      <td>A</td>\n      <td>2018-04-19</td>\n      <td>89</td>\n    </tr>\n    <tr>\n      <th>1</th>\n      <td>A</td>\n      <td>2018-04-20</td>\n      <td>87</td>\n    </tr>\n    <tr>\n      <th>2</th>\n      <td>A</td>\n      <td>2018-04-21</td>\n      <td>87</td>\n    </tr>\n    <tr>\n      <th>3</th>\n      <td>A</td>\n      <td>2018-04-22</td>\n      <td>42</td>\n    </tr>\n    <tr>\n      <th>4</th>\n      <td>A</td>\n      <td>2018-04-23</td>\n      <td>85</td>\n    </tr>\n    <tr>\n      <th>...</th>\n      <td>...</td>\n      <td>...</td>\n      <td>...</td>\n    </tr>\n    <tr>\n      <th>5012</th>\n      <td>Y</td>\n      <td>2019-04-12</td>\n      <td>386</td>\n    </tr>\n    <tr>\n      <th>5013</th>\n      <td>Y</td>\n      <td>2019-04-13</td>\n      <td>487</td>\n    </tr>\n    <tr>\n      <th>5014</th>\n      <td>Y</td>\n      <td>2019-04-14</td>\n      <td>481</td>\n    </tr>\n    <tr>\n      <th>5015</th>\n      <td>Y</td>\n      <td>2019-04-15</td>\n      <td>449</td>\n    </tr>\n    <tr>\n      <th>5016</th>\n      <td>Y</td>\n      <td>2019-04-16</td>\n      <td>99</td>\n    </tr>\n  </tbody>\n</table>\n<p>4902 rows × 3 columns</p>\n</div>"
     },
     "execution_count": 32,
     "metadata": {},
     "output_type": "execute_result"
    }
   ],
   "source": [
    "df_sorted"
   ],
   "metadata": {
    "collapsed": false
   }
  },
  {
   "cell_type": "code",
   "execution_count": 33,
   "outputs": [
    {
     "name": "stdout",
     "output_type": "stream",
     "text": [
      "<class 'pandas.core.frame.DataFrame'>\n",
      "Int64Index: 4902 entries, 0 to 5016\n",
      "Data columns (total 3 columns):\n",
      " #   Column  Non-Null Count  Dtype         \n",
      "---  ------  --------------  -----         \n",
      " 0   城市      4902 non-null   object        \n",
      " 1   日期      4902 non-null   datetime64[ns]\n",
      " 2   快递运输数量  4902 non-null   int64         \n",
      "dtypes: datetime64[ns](1), int64(1), object(1)\n",
      "memory usage: 153.2+ KB\n"
     ]
    }
   ],
   "source": [
    "df_sorted.info()"
   ],
   "metadata": {
    "collapsed": false
   }
  },
  {
   "cell_type": "code",
   "execution_count": 34,
   "outputs": [],
   "source": [
    "# 计算每个分组中快递总量的增长幅度\n",
    "df_sorted = df_sorted.copy()\n",
    "df_sorted.loc[:, '快递数量增长幅度'] = df_sorted.groupby('城市')['快递运输数量'].pct_change()"
   ],
   "metadata": {
    "collapsed": false
   }
  },
  {
   "cell_type": "code",
   "execution_count": 35,
   "outputs": [
    {
     "data": {
      "text/plain": "     城市         日期  快递运输数量  快递数量增长幅度\n0     A 2018-04-19      89       NaN\n1     A 2018-04-20      87 -0.022472\n2     A 2018-04-21      87  0.000000\n3     A 2018-04-22      42 -0.517241\n4     A 2018-04-23      85  1.023810\n...  ..        ...     ...       ...\n5012  Y 2019-04-12     386 -0.091765\n5013  Y 2019-04-13     487  0.261658\n5014  Y 2019-04-14     481 -0.012320\n5015  Y 2019-04-15     449 -0.066528\n5016  Y 2019-04-16      99 -0.779510\n\n[4902 rows x 4 columns]",
      "text/html": "<div>\n<style scoped>\n    .dataframe tbody tr th:only-of-type {\n        vertical-align: middle;\n    }\n\n    .dataframe tbody tr th {\n        vertical-align: top;\n    }\n\n    .dataframe thead th {\n        text-align: right;\n    }\n</style>\n<table border=\"1\" class=\"dataframe\">\n  <thead>\n    <tr style=\"text-align: right;\">\n      <th></th>\n      <th>城市</th>\n      <th>日期</th>\n      <th>快递运输数量</th>\n      <th>快递数量增长幅度</th>\n    </tr>\n  </thead>\n  <tbody>\n    <tr>\n      <th>0</th>\n      <td>A</td>\n      <td>2018-04-19</td>\n      <td>89</td>\n      <td>NaN</td>\n    </tr>\n    <tr>\n      <th>1</th>\n      <td>A</td>\n      <td>2018-04-20</td>\n      <td>87</td>\n      <td>-0.022472</td>\n    </tr>\n    <tr>\n      <th>2</th>\n      <td>A</td>\n      <td>2018-04-21</td>\n      <td>87</td>\n      <td>0.000000</td>\n    </tr>\n    <tr>\n      <th>3</th>\n      <td>A</td>\n      <td>2018-04-22</td>\n      <td>42</td>\n      <td>-0.517241</td>\n    </tr>\n    <tr>\n      <th>4</th>\n      <td>A</td>\n      <td>2018-04-23</td>\n      <td>85</td>\n      <td>1.023810</td>\n    </tr>\n    <tr>\n      <th>...</th>\n      <td>...</td>\n      <td>...</td>\n      <td>...</td>\n      <td>...</td>\n    </tr>\n    <tr>\n      <th>5012</th>\n      <td>Y</td>\n      <td>2019-04-12</td>\n      <td>386</td>\n      <td>-0.091765</td>\n    </tr>\n    <tr>\n      <th>5013</th>\n      <td>Y</td>\n      <td>2019-04-13</td>\n      <td>487</td>\n      <td>0.261658</td>\n    </tr>\n    <tr>\n      <th>5014</th>\n      <td>Y</td>\n      <td>2019-04-14</td>\n      <td>481</td>\n      <td>-0.012320</td>\n    </tr>\n    <tr>\n      <th>5015</th>\n      <td>Y</td>\n      <td>2019-04-15</td>\n      <td>449</td>\n      <td>-0.066528</td>\n    </tr>\n    <tr>\n      <th>5016</th>\n      <td>Y</td>\n      <td>2019-04-16</td>\n      <td>99</td>\n      <td>-0.779510</td>\n    </tr>\n  </tbody>\n</table>\n<p>4902 rows × 4 columns</p>\n</div>"
     },
     "execution_count": 35,
     "metadata": {},
     "output_type": "execute_result"
    }
   ],
   "source": [
    "df_sorted"
   ],
   "metadata": {
    "collapsed": false
   }
  },
  {
   "cell_type": "code",
   "execution_count": 36,
   "outputs": [],
   "source": [
    "df_sorted['快递数量增长幅度'].fillna(0, inplace=True)"
   ],
   "metadata": {
    "collapsed": false
   }
  },
  {
   "cell_type": "code",
   "execution_count": 37,
   "outputs": [
    {
     "data": {
      "text/plain": "   城市  快递数量增长速度\n0   A  0.086167\n1   B  0.100530\n2   C  0.122279\n3   D  0.171837\n4   E  0.059521\n5   G  0.062744\n6   H  0.095277\n7   I  0.121258\n8   J  0.088237\n9   K  0.087455\n10  L  0.060412\n11  M  0.096758\n12  N  0.050471\n13  O  0.087234\n14  P  0.041125\n15  Q  0.085170\n16  R  0.071084\n17  S  0.028608\n18  T  0.108803\n19  U  0.097058\n20  V  0.073617\n21  W  0.163322\n22  X  0.112930\n23  Y  0.126946",
      "text/html": "<div>\n<style scoped>\n    .dataframe tbody tr th:only-of-type {\n        vertical-align: middle;\n    }\n\n    .dataframe tbody tr th {\n        vertical-align: top;\n    }\n\n    .dataframe thead th {\n        text-align: right;\n    }\n</style>\n<table border=\"1\" class=\"dataframe\">\n  <thead>\n    <tr style=\"text-align: right;\">\n      <th></th>\n      <th>城市</th>\n      <th>快递数量增长速度</th>\n    </tr>\n  </thead>\n  <tbody>\n    <tr>\n      <th>0</th>\n      <td>A</td>\n      <td>0.086167</td>\n    </tr>\n    <tr>\n      <th>1</th>\n      <td>B</td>\n      <td>0.100530</td>\n    </tr>\n    <tr>\n      <th>2</th>\n      <td>C</td>\n      <td>0.122279</td>\n    </tr>\n    <tr>\n      <th>3</th>\n      <td>D</td>\n      <td>0.171837</td>\n    </tr>\n    <tr>\n      <th>4</th>\n      <td>E</td>\n      <td>0.059521</td>\n    </tr>\n    <tr>\n      <th>5</th>\n      <td>G</td>\n      <td>0.062744</td>\n    </tr>\n    <tr>\n      <th>6</th>\n      <td>H</td>\n      <td>0.095277</td>\n    </tr>\n    <tr>\n      <th>7</th>\n      <td>I</td>\n      <td>0.121258</td>\n    </tr>\n    <tr>\n      <th>8</th>\n      <td>J</td>\n      <td>0.088237</td>\n    </tr>\n    <tr>\n      <th>9</th>\n      <td>K</td>\n      <td>0.087455</td>\n    </tr>\n    <tr>\n      <th>10</th>\n      <td>L</td>\n      <td>0.060412</td>\n    </tr>\n    <tr>\n      <th>11</th>\n      <td>M</td>\n      <td>0.096758</td>\n    </tr>\n    <tr>\n      <th>12</th>\n      <td>N</td>\n      <td>0.050471</td>\n    </tr>\n    <tr>\n      <th>13</th>\n      <td>O</td>\n      <td>0.087234</td>\n    </tr>\n    <tr>\n      <th>14</th>\n      <td>P</td>\n      <td>0.041125</td>\n    </tr>\n    <tr>\n      <th>15</th>\n      <td>Q</td>\n      <td>0.085170</td>\n    </tr>\n    <tr>\n      <th>16</th>\n      <td>R</td>\n      <td>0.071084</td>\n    </tr>\n    <tr>\n      <th>17</th>\n      <td>S</td>\n      <td>0.028608</td>\n    </tr>\n    <tr>\n      <th>18</th>\n      <td>T</td>\n      <td>0.108803</td>\n    </tr>\n    <tr>\n      <th>19</th>\n      <td>U</td>\n      <td>0.097058</td>\n    </tr>\n    <tr>\n      <th>20</th>\n      <td>V</td>\n      <td>0.073617</td>\n    </tr>\n    <tr>\n      <th>21</th>\n      <td>W</td>\n      <td>0.163322</td>\n    </tr>\n    <tr>\n      <th>22</th>\n      <td>X</td>\n      <td>0.112930</td>\n    </tr>\n    <tr>\n      <th>23</th>\n      <td>Y</td>\n      <td>0.126946</td>\n    </tr>\n  </tbody>\n</table>\n</div>"
     },
     "execution_count": 37,
     "metadata": {},
     "output_type": "execute_result"
    }
   ],
   "source": [
    "# 取每个发货城市的增长幅度平均值作为其快递数量增长速度\n",
    "df_growth = df_sorted.groupby('城市')['快递数量增长幅度'].mean().reset_index()\n",
    "df_growth.rename(columns={'快递数量增长幅度': '快递数量增长速度'}, inplace=True)\n",
    "df_growth"
   ],
   "metadata": {
    "collapsed": false
   }
  },
  {
   "cell_type": "code",
   "execution_count": 38,
   "outputs": [
    {
     "data": {
      "text/plain": "   城市  单日最大发货量  单日最大收货量     发货量       收货量      快递总量\n0   A      420    426.0   31276   51708.0   82984.0\n1   B      340    455.0   12458   15624.0   28082.0\n2   C      181    104.0   18361   13228.0   31589.0\n3   D      303    376.0   31135   52401.0   83536.0\n4   E      267    224.0   14643   20055.0   34698.0\n5   G     2081   2280.0  287248  273737.0  560985.0\n6   H      559    531.0   45866   47155.0   93021.0\n7   I      538    720.0   45100   50855.0   95955.0\n8   J      834    895.0   99173   98557.0  197730.0\n9   K      682    677.0   74841   71003.0  145844.0\n10  L     2411   2268.0  296846  311289.0  608135.0\n11  M      510    567.0   52041   47609.0   99650.0\n12  N      581    499.0   62359   44445.0  106804.0\n13  O      859   1132.0   64986   87091.0  152077.0\n14  P      164    136.0   15419   13357.0   28776.0\n15  Q      612    949.0   60654   81076.0  141730.0\n16  R     1133   1060.0  109685   91333.0  201018.0\n17  S      648    411.0   56714   37140.0   93854.0\n18  T      883      0.0   32819       0.0   32819.0\n19  U      431    265.0   40548   24339.0   64887.0\n20  V     1218   1478.0  164403  192823.0  357226.0\n21  W      967    981.0   69505   77336.0  146841.0\n22  X     1090   1371.0   89437   84303.0  173740.0\n23  Y      506    576.0   52758   41811.0   94569.0",
      "text/html": "<div>\n<style scoped>\n    .dataframe tbody tr th:only-of-type {\n        vertical-align: middle;\n    }\n\n    .dataframe tbody tr th {\n        vertical-align: top;\n    }\n\n    .dataframe thead th {\n        text-align: right;\n    }\n</style>\n<table border=\"1\" class=\"dataframe\">\n  <thead>\n    <tr style=\"text-align: right;\">\n      <th></th>\n      <th>城市</th>\n      <th>单日最大发货量</th>\n      <th>单日最大收货量</th>\n      <th>发货量</th>\n      <th>收货量</th>\n      <th>快递总量</th>\n    </tr>\n  </thead>\n  <tbody>\n    <tr>\n      <th>0</th>\n      <td>A</td>\n      <td>420</td>\n      <td>426.0</td>\n      <td>31276</td>\n      <td>51708.0</td>\n      <td>82984.0</td>\n    </tr>\n    <tr>\n      <th>1</th>\n      <td>B</td>\n      <td>340</td>\n      <td>455.0</td>\n      <td>12458</td>\n      <td>15624.0</td>\n      <td>28082.0</td>\n    </tr>\n    <tr>\n      <th>2</th>\n      <td>C</td>\n      <td>181</td>\n      <td>104.0</td>\n      <td>18361</td>\n      <td>13228.0</td>\n      <td>31589.0</td>\n    </tr>\n    <tr>\n      <th>3</th>\n      <td>D</td>\n      <td>303</td>\n      <td>376.0</td>\n      <td>31135</td>\n      <td>52401.0</td>\n      <td>83536.0</td>\n    </tr>\n    <tr>\n      <th>4</th>\n      <td>E</td>\n      <td>267</td>\n      <td>224.0</td>\n      <td>14643</td>\n      <td>20055.0</td>\n      <td>34698.0</td>\n    </tr>\n    <tr>\n      <th>5</th>\n      <td>G</td>\n      <td>2081</td>\n      <td>2280.0</td>\n      <td>287248</td>\n      <td>273737.0</td>\n      <td>560985.0</td>\n    </tr>\n    <tr>\n      <th>6</th>\n      <td>H</td>\n      <td>559</td>\n      <td>531.0</td>\n      <td>45866</td>\n      <td>47155.0</td>\n      <td>93021.0</td>\n    </tr>\n    <tr>\n      <th>7</th>\n      <td>I</td>\n      <td>538</td>\n      <td>720.0</td>\n      <td>45100</td>\n      <td>50855.0</td>\n      <td>95955.0</td>\n    </tr>\n    <tr>\n      <th>8</th>\n      <td>J</td>\n      <td>834</td>\n      <td>895.0</td>\n      <td>99173</td>\n      <td>98557.0</td>\n      <td>197730.0</td>\n    </tr>\n    <tr>\n      <th>9</th>\n      <td>K</td>\n      <td>682</td>\n      <td>677.0</td>\n      <td>74841</td>\n      <td>71003.0</td>\n      <td>145844.0</td>\n    </tr>\n    <tr>\n      <th>10</th>\n      <td>L</td>\n      <td>2411</td>\n      <td>2268.0</td>\n      <td>296846</td>\n      <td>311289.0</td>\n      <td>608135.0</td>\n    </tr>\n    <tr>\n      <th>11</th>\n      <td>M</td>\n      <td>510</td>\n      <td>567.0</td>\n      <td>52041</td>\n      <td>47609.0</td>\n      <td>99650.0</td>\n    </tr>\n    <tr>\n      <th>12</th>\n      <td>N</td>\n      <td>581</td>\n      <td>499.0</td>\n      <td>62359</td>\n      <td>44445.0</td>\n      <td>106804.0</td>\n    </tr>\n    <tr>\n      <th>13</th>\n      <td>O</td>\n      <td>859</td>\n      <td>1132.0</td>\n      <td>64986</td>\n      <td>87091.0</td>\n      <td>152077.0</td>\n    </tr>\n    <tr>\n      <th>14</th>\n      <td>P</td>\n      <td>164</td>\n      <td>136.0</td>\n      <td>15419</td>\n      <td>13357.0</td>\n      <td>28776.0</td>\n    </tr>\n    <tr>\n      <th>15</th>\n      <td>Q</td>\n      <td>612</td>\n      <td>949.0</td>\n      <td>60654</td>\n      <td>81076.0</td>\n      <td>141730.0</td>\n    </tr>\n    <tr>\n      <th>16</th>\n      <td>R</td>\n      <td>1133</td>\n      <td>1060.0</td>\n      <td>109685</td>\n      <td>91333.0</td>\n      <td>201018.0</td>\n    </tr>\n    <tr>\n      <th>17</th>\n      <td>S</td>\n      <td>648</td>\n      <td>411.0</td>\n      <td>56714</td>\n      <td>37140.0</td>\n      <td>93854.0</td>\n    </tr>\n    <tr>\n      <th>18</th>\n      <td>T</td>\n      <td>883</td>\n      <td>0.0</td>\n      <td>32819</td>\n      <td>0.0</td>\n      <td>32819.0</td>\n    </tr>\n    <tr>\n      <th>19</th>\n      <td>U</td>\n      <td>431</td>\n      <td>265.0</td>\n      <td>40548</td>\n      <td>24339.0</td>\n      <td>64887.0</td>\n    </tr>\n    <tr>\n      <th>20</th>\n      <td>V</td>\n      <td>1218</td>\n      <td>1478.0</td>\n      <td>164403</td>\n      <td>192823.0</td>\n      <td>357226.0</td>\n    </tr>\n    <tr>\n      <th>21</th>\n      <td>W</td>\n      <td>967</td>\n      <td>981.0</td>\n      <td>69505</td>\n      <td>77336.0</td>\n      <td>146841.0</td>\n    </tr>\n    <tr>\n      <th>22</th>\n      <td>X</td>\n      <td>1090</td>\n      <td>1371.0</td>\n      <td>89437</td>\n      <td>84303.0</td>\n      <td>173740.0</td>\n    </tr>\n    <tr>\n      <th>23</th>\n      <td>Y</td>\n      <td>506</td>\n      <td>576.0</td>\n      <td>52758</td>\n      <td>41811.0</td>\n      <td>94569.0</td>\n    </tr>\n  </tbody>\n</table>\n</div>"
     },
     "execution_count": 38,
     "metadata": {},
     "output_type": "execute_result"
    }
   ],
   "source": [
    "df_city"
   ],
   "metadata": {
    "collapsed": false
   }
  },
  {
   "cell_type": "code",
   "execution_count": 39,
   "outputs": [],
   "source": [
    "# 合并到原数据中\n",
    "df_city = pd.merge(df_city, df_growth, on='城市', how='left')"
   ],
   "metadata": {
    "collapsed": false
   }
  },
  {
   "cell_type": "code",
   "execution_count": 40,
   "outputs": [
    {
     "data": {
      "text/plain": "   城市  单日最大发货量  单日最大收货量     发货量       收货量      快递总量  快递数量增长速度\n0   A      420    426.0   31276   51708.0   82984.0  0.086167\n1   B      340    455.0   12458   15624.0   28082.0  0.100530\n2   C      181    104.0   18361   13228.0   31589.0  0.122279\n3   D      303    376.0   31135   52401.0   83536.0  0.171837\n4   E      267    224.0   14643   20055.0   34698.0  0.059521\n5   G     2081   2280.0  287248  273737.0  560985.0  0.062744\n6   H      559    531.0   45866   47155.0   93021.0  0.095277\n7   I      538    720.0   45100   50855.0   95955.0  0.121258\n8   J      834    895.0   99173   98557.0  197730.0  0.088237\n9   K      682    677.0   74841   71003.0  145844.0  0.087455\n10  L     2411   2268.0  296846  311289.0  608135.0  0.060412\n11  M      510    567.0   52041   47609.0   99650.0  0.096758\n12  N      581    499.0   62359   44445.0  106804.0  0.050471\n13  O      859   1132.0   64986   87091.0  152077.0  0.087234\n14  P      164    136.0   15419   13357.0   28776.0  0.041125\n15  Q      612    949.0   60654   81076.0  141730.0  0.085170\n16  R     1133   1060.0  109685   91333.0  201018.0  0.071084\n17  S      648    411.0   56714   37140.0   93854.0  0.028608\n18  T      883      0.0   32819       0.0   32819.0  0.108803\n19  U      431    265.0   40548   24339.0   64887.0  0.097058\n20  V     1218   1478.0  164403  192823.0  357226.0  0.073617\n21  W      967    981.0   69505   77336.0  146841.0  0.163322\n22  X     1090   1371.0   89437   84303.0  173740.0  0.112930\n23  Y      506    576.0   52758   41811.0   94569.0  0.126946",
      "text/html": "<div>\n<style scoped>\n    .dataframe tbody tr th:only-of-type {\n        vertical-align: middle;\n    }\n\n    .dataframe tbody tr th {\n        vertical-align: top;\n    }\n\n    .dataframe thead th {\n        text-align: right;\n    }\n</style>\n<table border=\"1\" class=\"dataframe\">\n  <thead>\n    <tr style=\"text-align: right;\">\n      <th></th>\n      <th>城市</th>\n      <th>单日最大发货量</th>\n      <th>单日最大收货量</th>\n      <th>发货量</th>\n      <th>收货量</th>\n      <th>快递总量</th>\n      <th>快递数量增长速度</th>\n    </tr>\n  </thead>\n  <tbody>\n    <tr>\n      <th>0</th>\n      <td>A</td>\n      <td>420</td>\n      <td>426.0</td>\n      <td>31276</td>\n      <td>51708.0</td>\n      <td>82984.0</td>\n      <td>0.086167</td>\n    </tr>\n    <tr>\n      <th>1</th>\n      <td>B</td>\n      <td>340</td>\n      <td>455.0</td>\n      <td>12458</td>\n      <td>15624.0</td>\n      <td>28082.0</td>\n      <td>0.100530</td>\n    </tr>\n    <tr>\n      <th>2</th>\n      <td>C</td>\n      <td>181</td>\n      <td>104.0</td>\n      <td>18361</td>\n      <td>13228.0</td>\n      <td>31589.0</td>\n      <td>0.122279</td>\n    </tr>\n    <tr>\n      <th>3</th>\n      <td>D</td>\n      <td>303</td>\n      <td>376.0</td>\n      <td>31135</td>\n      <td>52401.0</td>\n      <td>83536.0</td>\n      <td>0.171837</td>\n    </tr>\n    <tr>\n      <th>4</th>\n      <td>E</td>\n      <td>267</td>\n      <td>224.0</td>\n      <td>14643</td>\n      <td>20055.0</td>\n      <td>34698.0</td>\n      <td>0.059521</td>\n    </tr>\n    <tr>\n      <th>5</th>\n      <td>G</td>\n      <td>2081</td>\n      <td>2280.0</td>\n      <td>287248</td>\n      <td>273737.0</td>\n      <td>560985.0</td>\n      <td>0.062744</td>\n    </tr>\n    <tr>\n      <th>6</th>\n      <td>H</td>\n      <td>559</td>\n      <td>531.0</td>\n      <td>45866</td>\n      <td>47155.0</td>\n      <td>93021.0</td>\n      <td>0.095277</td>\n    </tr>\n    <tr>\n      <th>7</th>\n      <td>I</td>\n      <td>538</td>\n      <td>720.0</td>\n      <td>45100</td>\n      <td>50855.0</td>\n      <td>95955.0</td>\n      <td>0.121258</td>\n    </tr>\n    <tr>\n      <th>8</th>\n      <td>J</td>\n      <td>834</td>\n      <td>895.0</td>\n      <td>99173</td>\n      <td>98557.0</td>\n      <td>197730.0</td>\n      <td>0.088237</td>\n    </tr>\n    <tr>\n      <th>9</th>\n      <td>K</td>\n      <td>682</td>\n      <td>677.0</td>\n      <td>74841</td>\n      <td>71003.0</td>\n      <td>145844.0</td>\n      <td>0.087455</td>\n    </tr>\n    <tr>\n      <th>10</th>\n      <td>L</td>\n      <td>2411</td>\n      <td>2268.0</td>\n      <td>296846</td>\n      <td>311289.0</td>\n      <td>608135.0</td>\n      <td>0.060412</td>\n    </tr>\n    <tr>\n      <th>11</th>\n      <td>M</td>\n      <td>510</td>\n      <td>567.0</td>\n      <td>52041</td>\n      <td>47609.0</td>\n      <td>99650.0</td>\n      <td>0.096758</td>\n    </tr>\n    <tr>\n      <th>12</th>\n      <td>N</td>\n      <td>581</td>\n      <td>499.0</td>\n      <td>62359</td>\n      <td>44445.0</td>\n      <td>106804.0</td>\n      <td>0.050471</td>\n    </tr>\n    <tr>\n      <th>13</th>\n      <td>O</td>\n      <td>859</td>\n      <td>1132.0</td>\n      <td>64986</td>\n      <td>87091.0</td>\n      <td>152077.0</td>\n      <td>0.087234</td>\n    </tr>\n    <tr>\n      <th>14</th>\n      <td>P</td>\n      <td>164</td>\n      <td>136.0</td>\n      <td>15419</td>\n      <td>13357.0</td>\n      <td>28776.0</td>\n      <td>0.041125</td>\n    </tr>\n    <tr>\n      <th>15</th>\n      <td>Q</td>\n      <td>612</td>\n      <td>949.0</td>\n      <td>60654</td>\n      <td>81076.0</td>\n      <td>141730.0</td>\n      <td>0.085170</td>\n    </tr>\n    <tr>\n      <th>16</th>\n      <td>R</td>\n      <td>1133</td>\n      <td>1060.0</td>\n      <td>109685</td>\n      <td>91333.0</td>\n      <td>201018.0</td>\n      <td>0.071084</td>\n    </tr>\n    <tr>\n      <th>17</th>\n      <td>S</td>\n      <td>648</td>\n      <td>411.0</td>\n      <td>56714</td>\n      <td>37140.0</td>\n      <td>93854.0</td>\n      <td>0.028608</td>\n    </tr>\n    <tr>\n      <th>18</th>\n      <td>T</td>\n      <td>883</td>\n      <td>0.0</td>\n      <td>32819</td>\n      <td>0.0</td>\n      <td>32819.0</td>\n      <td>0.108803</td>\n    </tr>\n    <tr>\n      <th>19</th>\n      <td>U</td>\n      <td>431</td>\n      <td>265.0</td>\n      <td>40548</td>\n      <td>24339.0</td>\n      <td>64887.0</td>\n      <td>0.097058</td>\n    </tr>\n    <tr>\n      <th>20</th>\n      <td>V</td>\n      <td>1218</td>\n      <td>1478.0</td>\n      <td>164403</td>\n      <td>192823.0</td>\n      <td>357226.0</td>\n      <td>0.073617</td>\n    </tr>\n    <tr>\n      <th>21</th>\n      <td>W</td>\n      <td>967</td>\n      <td>981.0</td>\n      <td>69505</td>\n      <td>77336.0</td>\n      <td>146841.0</td>\n      <td>0.163322</td>\n    </tr>\n    <tr>\n      <th>22</th>\n      <td>X</td>\n      <td>1090</td>\n      <td>1371.0</td>\n      <td>89437</td>\n      <td>84303.0</td>\n      <td>173740.0</td>\n      <td>0.112930</td>\n    </tr>\n    <tr>\n      <th>23</th>\n      <td>Y</td>\n      <td>506</td>\n      <td>576.0</td>\n      <td>52758</td>\n      <td>41811.0</td>\n      <td>94569.0</td>\n      <td>0.126946</td>\n    </tr>\n  </tbody>\n</table>\n</div>"
     },
     "execution_count": 40,
     "metadata": {},
     "output_type": "execute_result"
    }
   ],
   "source": [
    "df_city"
   ],
   "metadata": {
    "collapsed": false
   }
  },
  {
   "cell_type": "code",
   "execution_count": 41,
   "outputs": [
    {
     "name": "stdout",
     "output_type": "stream",
     "text": [
      "<class 'pandas.core.frame.DataFrame'>\n",
      "Int64Index: 24 entries, 0 to 23\n",
      "Data columns (total 7 columns):\n",
      " #   Column    Non-Null Count  Dtype  \n",
      "---  ------    --------------  -----  \n",
      " 0   城市        24 non-null     object \n",
      " 1   单日最大发货量   24 non-null     int64  \n",
      " 2   单日最大收货量   24 non-null     float64\n",
      " 3   发货量       24 non-null     int64  \n",
      " 4   收货量       24 non-null     float64\n",
      " 5   快递总量      24 non-null     float64\n",
      " 6   快递数量增长速度  24 non-null     float64\n",
      "dtypes: float64(4), int64(2), object(1)\n",
      "memory usage: 1.5+ KB\n"
     ]
    }
   ],
   "source": [
    "df_city.info()"
   ],
   "metadata": {
    "collapsed": false
   }
  },
  {
   "cell_type": "code",
   "execution_count": 42,
   "outputs": [],
   "source": [
    "from sklearn.preprocessing import MinMaxScaler\n",
    "\n",
    "# 数据归一化并进行平移变换\n",
    "scaler = MinMaxScaler()\n",
    "cols_to_normalize = ['单日最大发货量', '单日最大收货量','发货量', '收货量', '快递总量', '快递数量增长速度']\n",
    "df_normalized = pd.DataFrame(scaler.fit_transform(df_city[cols_to_normalize]), columns=cols_to_normalize)\n",
    "\n",
    "# 对归一化后的数据进行乘以100操作\n",
    "df_normalized *= 100"
   ],
   "metadata": {
    "collapsed": false
   }
  },
  {
   "cell_type": "code",
   "execution_count": 43,
   "outputs": [
    {
     "data": {
      "text/plain": "       单日最大发货量     单日最大收货量         发货量         收货量        快递总量    快递数量增长速度\n0    11.392968   18.684211    6.617016   16.610931    9.464997   40.186745\n1     7.832666   19.956140    0.000000    5.019130    0.000000   50.214464\n2     0.756564    4.561404    2.075685    4.249427    0.604600   65.399549\n3     6.186026   16.491228    6.567436   16.833553    9.560161  100.000000\n4     4.583890    9.824561    0.768317    6.442566    1.140585   21.582448\n5    85.313752  100.000000   96.625033   87.936612   91.871432   23.833050\n6    17.578994   23.289474   11.747331   15.148303   11.195356   46.546806\n7    16.644415   31.578947   11.477981   16.336909   11.701172   64.686242\n8    29.817534   39.254386   30.491793   31.660932   29.246983   41.631590\n9    23.052960   29.692982   21.935876   22.809351   20.301938   41.085957\n10  100.000000   99.473684  100.000000  100.000000  100.000000   22.205113\n11   15.398309   24.868421   13.918660   15.294148   12.338183   47.580987\n12   18.558077   21.885965   17.546802   14.277729   13.571518   15.264550\n13   30.930129   49.649123   18.470540   27.977539   21.376495   40.931775\n14    0.000000    5.964912    1.041183    4.290868    0.119644    8.738721\n15   19.937695   41.622807   16.947269   26.045251   19.592692   39.490532\n16   43.124166   46.491228   34.188151   29.340259   29.813827   29.655832\n17   21.539831   18.026316   15.561838   11.931035   11.338964    0.000000\n18   31.998220    0.000000    7.159585    0.000000    0.816650   55.990523\n19   11.882510   11.622807    9.877351    7.818779    6.345110   47.790110\n20   46.906987   64.824561   53.428766   61.943403   56.743780   31.424195\n21   35.736538   43.026316   20.059567   24.843795   20.473819   94.054633\n22   41.210503   60.131579   27.068301   27.081908   25.111154   58.872354\n23   15.220294   25.263158   14.170781   13.431570   11.462228   68.657779",
      "text/html": "<div>\n<style scoped>\n    .dataframe tbody tr th:only-of-type {\n        vertical-align: middle;\n    }\n\n    .dataframe tbody tr th {\n        vertical-align: top;\n    }\n\n    .dataframe thead th {\n        text-align: right;\n    }\n</style>\n<table border=\"1\" class=\"dataframe\">\n  <thead>\n    <tr style=\"text-align: right;\">\n      <th></th>\n      <th>单日最大发货量</th>\n      <th>单日最大收货量</th>\n      <th>发货量</th>\n      <th>收货量</th>\n      <th>快递总量</th>\n      <th>快递数量增长速度</th>\n    </tr>\n  </thead>\n  <tbody>\n    <tr>\n      <th>0</th>\n      <td>11.392968</td>\n      <td>18.684211</td>\n      <td>6.617016</td>\n      <td>16.610931</td>\n      <td>9.464997</td>\n      <td>40.186745</td>\n    </tr>\n    <tr>\n      <th>1</th>\n      <td>7.832666</td>\n      <td>19.956140</td>\n      <td>0.000000</td>\n      <td>5.019130</td>\n      <td>0.000000</td>\n      <td>50.214464</td>\n    </tr>\n    <tr>\n      <th>2</th>\n      <td>0.756564</td>\n      <td>4.561404</td>\n      <td>2.075685</td>\n      <td>4.249427</td>\n      <td>0.604600</td>\n      <td>65.399549</td>\n    </tr>\n    <tr>\n      <th>3</th>\n      <td>6.186026</td>\n      <td>16.491228</td>\n      <td>6.567436</td>\n      <td>16.833553</td>\n      <td>9.560161</td>\n      <td>100.000000</td>\n    </tr>\n    <tr>\n      <th>4</th>\n      <td>4.583890</td>\n      <td>9.824561</td>\n      <td>0.768317</td>\n      <td>6.442566</td>\n      <td>1.140585</td>\n      <td>21.582448</td>\n    </tr>\n    <tr>\n      <th>5</th>\n      <td>85.313752</td>\n      <td>100.000000</td>\n      <td>96.625033</td>\n      <td>87.936612</td>\n      <td>91.871432</td>\n      <td>23.833050</td>\n    </tr>\n    <tr>\n      <th>6</th>\n      <td>17.578994</td>\n      <td>23.289474</td>\n      <td>11.747331</td>\n      <td>15.148303</td>\n      <td>11.195356</td>\n      <td>46.546806</td>\n    </tr>\n    <tr>\n      <th>7</th>\n      <td>16.644415</td>\n      <td>31.578947</td>\n      <td>11.477981</td>\n      <td>16.336909</td>\n      <td>11.701172</td>\n      <td>64.686242</td>\n    </tr>\n    <tr>\n      <th>8</th>\n      <td>29.817534</td>\n      <td>39.254386</td>\n      <td>30.491793</td>\n      <td>31.660932</td>\n      <td>29.246983</td>\n      <td>41.631590</td>\n    </tr>\n    <tr>\n      <th>9</th>\n      <td>23.052960</td>\n      <td>29.692982</td>\n      <td>21.935876</td>\n      <td>22.809351</td>\n      <td>20.301938</td>\n      <td>41.085957</td>\n    </tr>\n    <tr>\n      <th>10</th>\n      <td>100.000000</td>\n      <td>99.473684</td>\n      <td>100.000000</td>\n      <td>100.000000</td>\n      <td>100.000000</td>\n      <td>22.205113</td>\n    </tr>\n    <tr>\n      <th>11</th>\n      <td>15.398309</td>\n      <td>24.868421</td>\n      <td>13.918660</td>\n      <td>15.294148</td>\n      <td>12.338183</td>\n      <td>47.580987</td>\n    </tr>\n    <tr>\n      <th>12</th>\n      <td>18.558077</td>\n      <td>21.885965</td>\n      <td>17.546802</td>\n      <td>14.277729</td>\n      <td>13.571518</td>\n      <td>15.264550</td>\n    </tr>\n    <tr>\n      <th>13</th>\n      <td>30.930129</td>\n      <td>49.649123</td>\n      <td>18.470540</td>\n      <td>27.977539</td>\n      <td>21.376495</td>\n      <td>40.931775</td>\n    </tr>\n    <tr>\n      <th>14</th>\n      <td>0.000000</td>\n      <td>5.964912</td>\n      <td>1.041183</td>\n      <td>4.290868</td>\n      <td>0.119644</td>\n      <td>8.738721</td>\n    </tr>\n    <tr>\n      <th>15</th>\n      <td>19.937695</td>\n      <td>41.622807</td>\n      <td>16.947269</td>\n      <td>26.045251</td>\n      <td>19.592692</td>\n      <td>39.490532</td>\n    </tr>\n    <tr>\n      <th>16</th>\n      <td>43.124166</td>\n      <td>46.491228</td>\n      <td>34.188151</td>\n      <td>29.340259</td>\n      <td>29.813827</td>\n      <td>29.655832</td>\n    </tr>\n    <tr>\n      <th>17</th>\n      <td>21.539831</td>\n      <td>18.026316</td>\n      <td>15.561838</td>\n      <td>11.931035</td>\n      <td>11.338964</td>\n      <td>0.000000</td>\n    </tr>\n    <tr>\n      <th>18</th>\n      <td>31.998220</td>\n      <td>0.000000</td>\n      <td>7.159585</td>\n      <td>0.000000</td>\n      <td>0.816650</td>\n      <td>55.990523</td>\n    </tr>\n    <tr>\n      <th>19</th>\n      <td>11.882510</td>\n      <td>11.622807</td>\n      <td>9.877351</td>\n      <td>7.818779</td>\n      <td>6.345110</td>\n      <td>47.790110</td>\n    </tr>\n    <tr>\n      <th>20</th>\n      <td>46.906987</td>\n      <td>64.824561</td>\n      <td>53.428766</td>\n      <td>61.943403</td>\n      <td>56.743780</td>\n      <td>31.424195</td>\n    </tr>\n    <tr>\n      <th>21</th>\n      <td>35.736538</td>\n      <td>43.026316</td>\n      <td>20.059567</td>\n      <td>24.843795</td>\n      <td>20.473819</td>\n      <td>94.054633</td>\n    </tr>\n    <tr>\n      <th>22</th>\n      <td>41.210503</td>\n      <td>60.131579</td>\n      <td>27.068301</td>\n      <td>27.081908</td>\n      <td>25.111154</td>\n      <td>58.872354</td>\n    </tr>\n    <tr>\n      <th>23</th>\n      <td>15.220294</td>\n      <td>25.263158</td>\n      <td>14.170781</td>\n      <td>13.431570</td>\n      <td>11.462228</td>\n      <td>68.657779</td>\n    </tr>\n  </tbody>\n</table>\n</div>"
     },
     "execution_count": 43,
     "metadata": {},
     "output_type": "execute_result"
    }
   ],
   "source": [
    "df_normalized"
   ],
   "metadata": {
    "collapsed": false
   }
  },
  {
   "cell_type": "code",
   "execution_count": 44,
   "outputs": [],
   "source": [
    "def calculate_entropy_weights(df):\n",
    "    \"\"\"利用熵权法计算权重\"\"\"\n",
    "    # 计算概率矩阵\n",
    "    prob_matrix = df.apply(lambda x: x / x.sum(), axis=0)\n",
    "    prob_matrix = prob_matrix.replace(0, 1e-10)  # 将值为0的元素替换为1e-10\n",
    "    # 计算熵值\n",
    "    entropy = (-1) * prob_matrix * np.log(prob_matrix)\n",
    "    entropy = entropy.sum()\n",
    "    # 计算权重\n",
    "    weights = (1 - entropy / np.log(len(df.columns))).tolist()\n",
    "    # 如果有负数权重，进行转换\n",
    "    if any(w < 0 for w in weights):\n",
    "        min_weight = min(weights)\n",
    "        new_weights = [w + abs(min_weight) for w in weights]\n",
    "        weights = [w / sum(new_weights) for w in new_weights]\n",
    "    return weights\n"
   ],
   "metadata": {
    "collapsed": false
   }
  },
  {
   "cell_type": "code",
   "execution_count": 45,
   "outputs": [],
   "source": [
    "weights = calculate_entropy_weights(df_normalized)"
   ],
   "metadata": {
    "collapsed": false
   }
  },
  {
   "cell_type": "code",
   "execution_count": 46,
   "outputs": [
    {
     "data": {
      "text/plain": "[0.1475543148191753,\n 0.0948816831343255,\n 0.26812663057286507,\n 0.18134581740399533,\n 0.3080915540696388,\n 0.0]"
     },
     "execution_count": 46,
     "metadata": {},
     "output_type": "execute_result"
    }
   ],
   "source": [
    "weights"
   ],
   "metadata": {
    "collapsed": false
   }
  },
  {
   "cell_type": "code",
   "execution_count": 48,
   "outputs": [],
   "source": [
    "def calculate_score(row, weights):\n",
    "\n",
    "    score = (row[cols_to_normalize] * weights).sum()\n",
    "    return score\n",
    "\n",
    "df_city['得分'] = df_normalized.apply(lambda row: calculate_score(row, weights), axis=1)"
   ],
   "metadata": {
    "collapsed": false
   }
  },
  {
   "cell_type": "code",
   "execution_count": 49,
   "outputs": [
    {
     "name": "stdout",
     "output_type": "stream",
     "text": [
      "<class 'pandas.core.frame.DataFrame'>\n",
      "Int64Index: 24 entries, 0 to 23\n",
      "Data columns (total 8 columns):\n",
      " #   Column    Non-Null Count  Dtype  \n",
      "---  ------    --------------  -----  \n",
      " 0   城市        24 non-null     object \n",
      " 1   单日最大发货量   24 non-null     int64  \n",
      " 2   单日最大收货量   24 non-null     float64\n",
      " 3   发货量       24 non-null     int64  \n",
      " 4   收货量       24 non-null     float64\n",
      " 5   快递总量      24 non-null     float64\n",
      " 6   快递数量增长速度  24 non-null     float64\n",
      " 7   得分        24 non-null     float64\n",
      "dtypes: float64(5), int64(2), object(1)\n",
      "memory usage: 1.7+ KB\n"
     ]
    }
   ],
   "source": [
    "df_city.info()"
   ],
   "metadata": {
    "collapsed": false
   }
  },
  {
   "cell_type": "code",
   "execution_count": 48,
   "outputs": [
    {
     "data": {
      "text/plain": "   城市  单日最大发货量  单日最大收货量     发货量       收货量      快递总量  快递数量增长速度         得分\n0   A      420    426.0   31276   51708.0   82984.0  0.086167  11.156478\n1   B      340    455.0   12458   15624.0   28082.0  0.100530   3.959414\n2   C      181    104.0   18361   13228.0   31589.0  0.122279   2.057862\n3   D      303    376.0   31135   52401.0   83536.0  0.171837  10.236494\n4   E      267    224.0   14643   20055.0   34698.0  0.059521   3.334287\n5   G     2081   2280.0  287248  273737.0  560985.0  0.062744  92.236074\n6   H      559    531.0   45866   47155.0   93021.0  0.095277  14.149649\n7   I      538    720.0   45100   50855.0   95955.0  0.121258  15.097434\n8   J      834    895.0   99173   98557.0  197730.0  0.088237  31.052216\n9   K      682    677.0   74841   71003.0  145844.0  0.087455  22.491712\n10  L     2411   2268.0  296846  311289.0  608135.0  0.060412  99.950062\n11  M      510    567.0   52041   47609.0   99650.0  0.096758  14.938428\n12  N      581    499.0   62359   44445.0  106804.0  0.050471  16.290143\n13  O      859   1132.0   64986   87091.0  152077.0  0.087234  25.886637\n14  P      164    136.0   15419   13357.0   28776.0  0.041125   1.660122\n15  Q      612    949.0   60654   81076.0  141730.0  0.085170  22.194689\n16  R     1133   1060.0  109685   91333.0  201018.0  0.071084  34.447198\n17  S      648    411.0   56714   37140.0   93854.0  0.028608  14.718288\n18  T      883      0.0   32819       0.0   32819.0  0.108803   6.892754\n19  U      431    265.0   40548   24339.0   64887.0  0.097058   8.877266\n20  V     1218   1478.0  164403  192823.0  357226.0  0.073617  56.113123\n21  W      967    981.0   69505   77336.0  146841.0  0.163322  25.547122\n22  X     1090   1371.0   89437   84303.0  173740.0  0.112930  31.691630\n23  Y      506    576.0   52758   41811.0   94569.0  0.126946  14.409569",
      "text/html": "<div>\n<style scoped>\n    .dataframe tbody tr th:only-of-type {\n        vertical-align: middle;\n    }\n\n    .dataframe tbody tr th {\n        vertical-align: top;\n    }\n\n    .dataframe thead th {\n        text-align: right;\n    }\n</style>\n<table border=\"1\" class=\"dataframe\">\n  <thead>\n    <tr style=\"text-align: right;\">\n      <th></th>\n      <th>城市</th>\n      <th>单日最大发货量</th>\n      <th>单日最大收货量</th>\n      <th>发货量</th>\n      <th>收货量</th>\n      <th>快递总量</th>\n      <th>快递数量增长速度</th>\n      <th>得分</th>\n    </tr>\n  </thead>\n  <tbody>\n    <tr>\n      <th>0</th>\n      <td>A</td>\n      <td>420</td>\n      <td>426.0</td>\n      <td>31276</td>\n      <td>51708.0</td>\n      <td>82984.0</td>\n      <td>0.086167</td>\n      <td>11.156478</td>\n    </tr>\n    <tr>\n      <th>1</th>\n      <td>B</td>\n      <td>340</td>\n      <td>455.0</td>\n      <td>12458</td>\n      <td>15624.0</td>\n      <td>28082.0</td>\n      <td>0.100530</td>\n      <td>3.959414</td>\n    </tr>\n    <tr>\n      <th>2</th>\n      <td>C</td>\n      <td>181</td>\n      <td>104.0</td>\n      <td>18361</td>\n      <td>13228.0</td>\n      <td>31589.0</td>\n      <td>0.122279</td>\n      <td>2.057862</td>\n    </tr>\n    <tr>\n      <th>3</th>\n      <td>D</td>\n      <td>303</td>\n      <td>376.0</td>\n      <td>31135</td>\n      <td>52401.0</td>\n      <td>83536.0</td>\n      <td>0.171837</td>\n      <td>10.236494</td>\n    </tr>\n    <tr>\n      <th>4</th>\n      <td>E</td>\n      <td>267</td>\n      <td>224.0</td>\n      <td>14643</td>\n      <td>20055.0</td>\n      <td>34698.0</td>\n      <td>0.059521</td>\n      <td>3.334287</td>\n    </tr>\n    <tr>\n      <th>5</th>\n      <td>G</td>\n      <td>2081</td>\n      <td>2280.0</td>\n      <td>287248</td>\n      <td>273737.0</td>\n      <td>560985.0</td>\n      <td>0.062744</td>\n      <td>92.236074</td>\n    </tr>\n    <tr>\n      <th>6</th>\n      <td>H</td>\n      <td>559</td>\n      <td>531.0</td>\n      <td>45866</td>\n      <td>47155.0</td>\n      <td>93021.0</td>\n      <td>0.095277</td>\n      <td>14.149649</td>\n    </tr>\n    <tr>\n      <th>7</th>\n      <td>I</td>\n      <td>538</td>\n      <td>720.0</td>\n      <td>45100</td>\n      <td>50855.0</td>\n      <td>95955.0</td>\n      <td>0.121258</td>\n      <td>15.097434</td>\n    </tr>\n    <tr>\n      <th>8</th>\n      <td>J</td>\n      <td>834</td>\n      <td>895.0</td>\n      <td>99173</td>\n      <td>98557.0</td>\n      <td>197730.0</td>\n      <td>0.088237</td>\n      <td>31.052216</td>\n    </tr>\n    <tr>\n      <th>9</th>\n      <td>K</td>\n      <td>682</td>\n      <td>677.0</td>\n      <td>74841</td>\n      <td>71003.0</td>\n      <td>145844.0</td>\n      <td>0.087455</td>\n      <td>22.491712</td>\n    </tr>\n    <tr>\n      <th>10</th>\n      <td>L</td>\n      <td>2411</td>\n      <td>2268.0</td>\n      <td>296846</td>\n      <td>311289.0</td>\n      <td>608135.0</td>\n      <td>0.060412</td>\n      <td>99.950062</td>\n    </tr>\n    <tr>\n      <th>11</th>\n      <td>M</td>\n      <td>510</td>\n      <td>567.0</td>\n      <td>52041</td>\n      <td>47609.0</td>\n      <td>99650.0</td>\n      <td>0.096758</td>\n      <td>14.938428</td>\n    </tr>\n    <tr>\n      <th>12</th>\n      <td>N</td>\n      <td>581</td>\n      <td>499.0</td>\n      <td>62359</td>\n      <td>44445.0</td>\n      <td>106804.0</td>\n      <td>0.050471</td>\n      <td>16.290143</td>\n    </tr>\n    <tr>\n      <th>13</th>\n      <td>O</td>\n      <td>859</td>\n      <td>1132.0</td>\n      <td>64986</td>\n      <td>87091.0</td>\n      <td>152077.0</td>\n      <td>0.087234</td>\n      <td>25.886637</td>\n    </tr>\n    <tr>\n      <th>14</th>\n      <td>P</td>\n      <td>164</td>\n      <td>136.0</td>\n      <td>15419</td>\n      <td>13357.0</td>\n      <td>28776.0</td>\n      <td>0.041125</td>\n      <td>1.660122</td>\n    </tr>\n    <tr>\n      <th>15</th>\n      <td>Q</td>\n      <td>612</td>\n      <td>949.0</td>\n      <td>60654</td>\n      <td>81076.0</td>\n      <td>141730.0</td>\n      <td>0.085170</td>\n      <td>22.194689</td>\n    </tr>\n    <tr>\n      <th>16</th>\n      <td>R</td>\n      <td>1133</td>\n      <td>1060.0</td>\n      <td>109685</td>\n      <td>91333.0</td>\n      <td>201018.0</td>\n      <td>0.071084</td>\n      <td>34.447198</td>\n    </tr>\n    <tr>\n      <th>17</th>\n      <td>S</td>\n      <td>648</td>\n      <td>411.0</td>\n      <td>56714</td>\n      <td>37140.0</td>\n      <td>93854.0</td>\n      <td>0.028608</td>\n      <td>14.718288</td>\n    </tr>\n    <tr>\n      <th>18</th>\n      <td>T</td>\n      <td>883</td>\n      <td>0.0</td>\n      <td>32819</td>\n      <td>0.0</td>\n      <td>32819.0</td>\n      <td>0.108803</td>\n      <td>6.892754</td>\n    </tr>\n    <tr>\n      <th>19</th>\n      <td>U</td>\n      <td>431</td>\n      <td>265.0</td>\n      <td>40548</td>\n      <td>24339.0</td>\n      <td>64887.0</td>\n      <td>0.097058</td>\n      <td>8.877266</td>\n    </tr>\n    <tr>\n      <th>20</th>\n      <td>V</td>\n      <td>1218</td>\n      <td>1478.0</td>\n      <td>164403</td>\n      <td>192823.0</td>\n      <td>357226.0</td>\n      <td>0.073617</td>\n      <td>56.113123</td>\n    </tr>\n    <tr>\n      <th>21</th>\n      <td>W</td>\n      <td>967</td>\n      <td>981.0</td>\n      <td>69505</td>\n      <td>77336.0</td>\n      <td>146841.0</td>\n      <td>0.163322</td>\n      <td>25.547122</td>\n    </tr>\n    <tr>\n      <th>22</th>\n      <td>X</td>\n      <td>1090</td>\n      <td>1371.0</td>\n      <td>89437</td>\n      <td>84303.0</td>\n      <td>173740.0</td>\n      <td>0.112930</td>\n      <td>31.691630</td>\n    </tr>\n    <tr>\n      <th>23</th>\n      <td>Y</td>\n      <td>506</td>\n      <td>576.0</td>\n      <td>52758</td>\n      <td>41811.0</td>\n      <td>94569.0</td>\n      <td>0.126946</td>\n      <td>14.409569</td>\n    </tr>\n  </tbody>\n</table>\n</div>"
     },
     "execution_count": 48,
     "metadata": {},
     "output_type": "execute_result"
    }
   ],
   "source": [
    "df_city"
   ],
   "metadata": {
    "collapsed": false
   }
  },
  {
   "cell_type": "code",
   "execution_count": 54,
   "outputs": [],
   "source": [
    "df_sorted= df_city.sort_values(by='得分', ascending=False)"
   ],
   "metadata": {
    "collapsed": false
   }
  },
  {
   "cell_type": "code",
   "execution_count": 56,
   "outputs": [
    {
     "data": {
      "text/plain": "   城市  单日最大发货量  单日最大收货量     发货量       收货量      快递总量  快递数量增长速度         得分\n10  L     2411   2268.0  296846  311289.0  608135.0  0.060412  99.950062\n5   G     2081   2280.0  287248  273737.0  560985.0  0.062744  92.236074\n20  V     1218   1478.0  164403  192823.0  357226.0  0.073617  56.113123\n16  R     1133   1060.0  109685   91333.0  201018.0  0.071084  34.447198\n22  X     1090   1371.0   89437   84303.0  173740.0  0.112930  31.691630\n8   J      834    895.0   99173   98557.0  197730.0  0.088237  31.052216\n13  O      859   1132.0   64986   87091.0  152077.0  0.087234  25.886637\n21  W      967    981.0   69505   77336.0  146841.0  0.163322  25.547122\n9   K      682    677.0   74841   71003.0  145844.0  0.087455  22.491712\n15  Q      612    949.0   60654   81076.0  141730.0  0.085170  22.194689\n12  N      581    499.0   62359   44445.0  106804.0  0.050471  16.290143\n7   I      538    720.0   45100   50855.0   95955.0  0.121258  15.097434\n11  M      510    567.0   52041   47609.0   99650.0  0.096758  14.938428\n17  S      648    411.0   56714   37140.0   93854.0  0.028608  14.718288\n23  Y      506    576.0   52758   41811.0   94569.0  0.126946  14.409569\n6   H      559    531.0   45866   47155.0   93021.0  0.095277  14.149649\n0   A      420    426.0   31276   51708.0   82984.0  0.086167  11.156478\n3   D      303    376.0   31135   52401.0   83536.0  0.171837  10.236494\n19  U      431    265.0   40548   24339.0   64887.0  0.097058   8.877266\n18  T      883      0.0   32819       0.0   32819.0  0.108803   6.892754\n1   B      340    455.0   12458   15624.0   28082.0  0.100530   3.959414\n4   E      267    224.0   14643   20055.0   34698.0  0.059521   3.334287\n2   C      181    104.0   18361   13228.0   31589.0  0.122279   2.057862\n14  P      164    136.0   15419   13357.0   28776.0  0.041125   1.660122",
      "text/html": "<div>\n<style scoped>\n    .dataframe tbody tr th:only-of-type {\n        vertical-align: middle;\n    }\n\n    .dataframe tbody tr th {\n        vertical-align: top;\n    }\n\n    .dataframe thead th {\n        text-align: right;\n    }\n</style>\n<table border=\"1\" class=\"dataframe\">\n  <thead>\n    <tr style=\"text-align: right;\">\n      <th></th>\n      <th>城市</th>\n      <th>单日最大发货量</th>\n      <th>单日最大收货量</th>\n      <th>发货量</th>\n      <th>收货量</th>\n      <th>快递总量</th>\n      <th>快递数量增长速度</th>\n      <th>得分</th>\n    </tr>\n  </thead>\n  <tbody>\n    <tr>\n      <th>10</th>\n      <td>L</td>\n      <td>2411</td>\n      <td>2268.0</td>\n      <td>296846</td>\n      <td>311289.0</td>\n      <td>608135.0</td>\n      <td>0.060412</td>\n      <td>99.950062</td>\n    </tr>\n    <tr>\n      <th>5</th>\n      <td>G</td>\n      <td>2081</td>\n      <td>2280.0</td>\n      <td>287248</td>\n      <td>273737.0</td>\n      <td>560985.0</td>\n      <td>0.062744</td>\n      <td>92.236074</td>\n    </tr>\n    <tr>\n      <th>20</th>\n      <td>V</td>\n      <td>1218</td>\n      <td>1478.0</td>\n      <td>164403</td>\n      <td>192823.0</td>\n      <td>357226.0</td>\n      <td>0.073617</td>\n      <td>56.113123</td>\n    </tr>\n    <tr>\n      <th>16</th>\n      <td>R</td>\n      <td>1133</td>\n      <td>1060.0</td>\n      <td>109685</td>\n      <td>91333.0</td>\n      <td>201018.0</td>\n      <td>0.071084</td>\n      <td>34.447198</td>\n    </tr>\n    <tr>\n      <th>22</th>\n      <td>X</td>\n      <td>1090</td>\n      <td>1371.0</td>\n      <td>89437</td>\n      <td>84303.0</td>\n      <td>173740.0</td>\n      <td>0.112930</td>\n      <td>31.691630</td>\n    </tr>\n    <tr>\n      <th>8</th>\n      <td>J</td>\n      <td>834</td>\n      <td>895.0</td>\n      <td>99173</td>\n      <td>98557.0</td>\n      <td>197730.0</td>\n      <td>0.088237</td>\n      <td>31.052216</td>\n    </tr>\n    <tr>\n      <th>13</th>\n      <td>O</td>\n      <td>859</td>\n      <td>1132.0</td>\n      <td>64986</td>\n      <td>87091.0</td>\n      <td>152077.0</td>\n      <td>0.087234</td>\n      <td>25.886637</td>\n    </tr>\n    <tr>\n      <th>21</th>\n      <td>W</td>\n      <td>967</td>\n      <td>981.0</td>\n      <td>69505</td>\n      <td>77336.0</td>\n      <td>146841.0</td>\n      <td>0.163322</td>\n      <td>25.547122</td>\n    </tr>\n    <tr>\n      <th>9</th>\n      <td>K</td>\n      <td>682</td>\n      <td>677.0</td>\n      <td>74841</td>\n      <td>71003.0</td>\n      <td>145844.0</td>\n      <td>0.087455</td>\n      <td>22.491712</td>\n    </tr>\n    <tr>\n      <th>15</th>\n      <td>Q</td>\n      <td>612</td>\n      <td>949.0</td>\n      <td>60654</td>\n      <td>81076.0</td>\n      <td>141730.0</td>\n      <td>0.085170</td>\n      <td>22.194689</td>\n    </tr>\n    <tr>\n      <th>12</th>\n      <td>N</td>\n      <td>581</td>\n      <td>499.0</td>\n      <td>62359</td>\n      <td>44445.0</td>\n      <td>106804.0</td>\n      <td>0.050471</td>\n      <td>16.290143</td>\n    </tr>\n    <tr>\n      <th>7</th>\n      <td>I</td>\n      <td>538</td>\n      <td>720.0</td>\n      <td>45100</td>\n      <td>50855.0</td>\n      <td>95955.0</td>\n      <td>0.121258</td>\n      <td>15.097434</td>\n    </tr>\n    <tr>\n      <th>11</th>\n      <td>M</td>\n      <td>510</td>\n      <td>567.0</td>\n      <td>52041</td>\n      <td>47609.0</td>\n      <td>99650.0</td>\n      <td>0.096758</td>\n      <td>14.938428</td>\n    </tr>\n    <tr>\n      <th>17</th>\n      <td>S</td>\n      <td>648</td>\n      <td>411.0</td>\n      <td>56714</td>\n      <td>37140.0</td>\n      <td>93854.0</td>\n      <td>0.028608</td>\n      <td>14.718288</td>\n    </tr>\n    <tr>\n      <th>23</th>\n      <td>Y</td>\n      <td>506</td>\n      <td>576.0</td>\n      <td>52758</td>\n      <td>41811.0</td>\n      <td>94569.0</td>\n      <td>0.126946</td>\n      <td>14.409569</td>\n    </tr>\n    <tr>\n      <th>6</th>\n      <td>H</td>\n      <td>559</td>\n      <td>531.0</td>\n      <td>45866</td>\n      <td>47155.0</td>\n      <td>93021.0</td>\n      <td>0.095277</td>\n      <td>14.149649</td>\n    </tr>\n    <tr>\n      <th>0</th>\n      <td>A</td>\n      <td>420</td>\n      <td>426.0</td>\n      <td>31276</td>\n      <td>51708.0</td>\n      <td>82984.0</td>\n      <td>0.086167</td>\n      <td>11.156478</td>\n    </tr>\n    <tr>\n      <th>3</th>\n      <td>D</td>\n      <td>303</td>\n      <td>376.0</td>\n      <td>31135</td>\n      <td>52401.0</td>\n      <td>83536.0</td>\n      <td>0.171837</td>\n      <td>10.236494</td>\n    </tr>\n    <tr>\n      <th>19</th>\n      <td>U</td>\n      <td>431</td>\n      <td>265.0</td>\n      <td>40548</td>\n      <td>24339.0</td>\n      <td>64887.0</td>\n      <td>0.097058</td>\n      <td>8.877266</td>\n    </tr>\n    <tr>\n      <th>18</th>\n      <td>T</td>\n      <td>883</td>\n      <td>0.0</td>\n      <td>32819</td>\n      <td>0.0</td>\n      <td>32819.0</td>\n      <td>0.108803</td>\n      <td>6.892754</td>\n    </tr>\n    <tr>\n      <th>1</th>\n      <td>B</td>\n      <td>340</td>\n      <td>455.0</td>\n      <td>12458</td>\n      <td>15624.0</td>\n      <td>28082.0</td>\n      <td>0.100530</td>\n      <td>3.959414</td>\n    </tr>\n    <tr>\n      <th>4</th>\n      <td>E</td>\n      <td>267</td>\n      <td>224.0</td>\n      <td>14643</td>\n      <td>20055.0</td>\n      <td>34698.0</td>\n      <td>0.059521</td>\n      <td>3.334287</td>\n    </tr>\n    <tr>\n      <th>2</th>\n      <td>C</td>\n      <td>181</td>\n      <td>104.0</td>\n      <td>18361</td>\n      <td>13228.0</td>\n      <td>31589.0</td>\n      <td>0.122279</td>\n      <td>2.057862</td>\n    </tr>\n    <tr>\n      <th>14</th>\n      <td>P</td>\n      <td>164</td>\n      <td>136.0</td>\n      <td>15419</td>\n      <td>13357.0</td>\n      <td>28776.0</td>\n      <td>0.041125</td>\n      <td>1.660122</td>\n    </tr>\n  </tbody>\n</table>\n</div>"
     },
     "execution_count": 56,
     "metadata": {},
     "output_type": "execute_result"
    }
   ],
   "source": [
    "df_sorted"
   ],
   "metadata": {
    "collapsed": false
   }
  },
  {
   "cell_type": "code",
   "execution_count": 58,
   "outputs": [],
   "source": [
    "#配置字体参数雅黑\n",
    "plt.rcParams['font.sans-serif'] = 'Microsoft YaHei'\n",
    "#安装字体\n",
    "plt.rcParams['font.sans-serif'] = 'SimHei'\n",
    "#配置矢量图\n",
    "%config InlineBack终点.figure_format = 'svg'"
   ],
   "metadata": {
    "collapsed": false
   }
  },
  {
   "cell_type": "code",
   "execution_count": 59,
   "outputs": [
    {
     "data": {
      "text/plain": "<Figure size 1000x600 with 1 Axes>",
      "image/png": "[encoded data removed]"
     },
     "metadata": {},
     "output_type": "display_data"
    },
    {
     "data": {
      "text/plain": "<Figure size 1000x600 with 1 Axes>",
      "image/png": "[encoded data removed]"
     },
     "metadata": {},
     "output_type": "display_data"
    }
   ],
   "source": [
    "plt.figure(figsize=(10, 6))\n",
    "plt.bar(df_sorted['城市'], df_sorted['得分'], color='orange')\n",
    "plt.xticks(rotation=45)\n",
    "plt.xlabel('城市')\n",
    "plt.ylabel('得分')\n",
    "plt.title('城市得分排名')\n",
    "plt.show()\n",
    "\n",
    "# 绘制快递总量图\n",
    "plt.figure(figsize=(10, 6))\n",
    "plt.bar(df_sorted['城市'], df_sorted['快递总量'], color='blue')\n",
    "plt.xticks(rotation=45)\n",
    "plt.xlabel('城市')\n",
    "plt.ylabel('快递总量')\n",
    "plt.title('城市快递总量排名')\n",
    "plt.show()"
   ],
   "metadata": {
    "collapsed": false
   }
  },
  {
   "cell_type": "code",
   "execution_count": 49,
   "outputs": [
    {
     "name": "stdout",
     "output_type": "stream",
     "text": [
      "   城市         得分\n",
      "10  L  99.950062\n",
      "5   G  92.236074\n",
      "20  V  56.113123\n",
      "16  R  34.447198\n",
      "22  X  31.691630\n"
     ]
    }
   ],
   "source": [
    "top5_cities = df_city[['城市', '得分']].sort_values('得分', ascending=False).head(5)\n",
    "print(top5_cities)"
   ],
   "metadata": {
    "collapsed": false
   }
  },
  {
   "cell_type": "code",
   "execution_count": null,
   "outputs": [],
   "source": [],
   "metadata": {
    "collapsed": false
   }
  }
 ],
 "metadata": {
  "kernelspec": {
   "display_name": "Python 3",
   "language": "python",
   "name": "python3"
  },
  "language_info": {
   "codemirror_mode": {
    "name": "ipython",
    "version": 2
   },
   "file_extension": ".py",
   "mimetype": "text/x-python",
   "name": "python",
   "nbconvert_exporter": "python",
   "pygments_lexer": "ipython2",
   "version": "2.7.6"
  }
 },
 "nbformat": 4,
 "nbformat_minor": 0
}
