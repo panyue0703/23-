{
 "cells": [
  {
   "cell_type": "code",
   "execution_count": 1,
   "outputs": [],
   "source": [
    "import seaborn as sns\n",
    "sns.set(font= \"simhei\",style=\"whitegrid\",font_scale=1.6)\n",
    "import matplotlib\n",
    "matplotlib.rcParams['axes.unicode_minus']=False\n",
    "import numpy as np\n",
    "import pandas as pd\n",
    "import matplotlib.pyplot as plt"
   ],
   "metadata": {
    "collapsed": false
   }
  },
  {
   "cell_type": "code",
   "execution_count": 2,
   "metadata": {
    "collapsed": true
   },
   "outputs": [],
   "source": [
    "#配置字体参数雅黑\n",
    "plt.rcParams['font.sans-serif'] = 'Microsoft YaHei'\n",
    "#安装字体\n",
    "plt.rcParams['font.sans-serif'] = 'SimHei'\n",
    "#配置矢量图\n",
    "%config InlineBackend.figure_format = 'svg'"
   ]
  },
  {
   "cell_type": "code",
   "execution_count": 3,
   "outputs": [],
   "source": [
    "from statsmodels.tsa.seasonal import STL,seasonal_decompose"
   ],
   "metadata": {
    "collapsed": false
   }
  },
  {
   "cell_type": "code",
   "execution_count": 4,
   "outputs": [],
   "source": [
    "df1 = pd.read_excel(\"./Attachment 2.xlsx\")"
   ],
   "metadata": {
    "collapsed": false
   }
  },
  {
   "cell_type": "code",
   "execution_count": 5,
   "outputs": [
    {
     "name": "stdout",
     "output_type": "stream",
     "text": [
      "<class 'pandas.core.frame.DataFrame'>\n",
      "RangeIndex: 56778 entries, 0 to 56777\n",
      "Data columns (total 4 columns):\n",
      " #   Column                                       Non-Null Count  Dtype         \n",
      "---  ------                                       --------------  -----         \n",
      " 0   日期(年/月/日) (Date Y/M/D)                       56778 non-null  datetime64[ns]\n",
      " 1   发货城市 (Delivering city)                       56778 non-null  object        \n",
      " 2   收货城市 (Receiving city)                        56778 non-null  object        \n",
      " 3   快递运输数量(件) (Express delivery quantity (PCS))  56778 non-null  int64         \n",
      "dtypes: datetime64[ns](1), int64(1), object(2)\n",
      "memory usage: 1.7+ MB\n"
     ]
    }
   ],
   "source": [
    "df1.info()"
   ],
   "metadata": {
    "collapsed": false
   }
  },
  {
   "cell_type": "code",
   "execution_count": 6,
   "outputs": [
    {
     "data": {
      "text/plain": "              日期 发货城市 收货城市  快递运输数量\n0     2020-04-28    R    O     216\n1     2020-04-28    R    L     320\n2     2020-04-28    R    G     110\n3     2020-04-28    R    D      96\n4     2020-04-28    P    D     144\n...          ...  ...  ...     ...\n53861 2023-04-27    I    S      47\n53862 2023-04-27    I    E      65\n53863 2023-04-27    J    I     337\n53864 2023-04-27    J    K     242\n53865 2023-04-27    J    H      48\n\n[53866 rows x 4 columns]",
      "text/html": "<div>\n<style scoped>\n    .dataframe tbody tr th:only-of-type {\n        vertical-align: middle;\n    }\n\n    .dataframe tbody tr th {\n        vertical-align: top;\n    }\n\n    .dataframe thead th {\n        text-align: right;\n    }\n</style>\n<table border=\"1\" class=\"dataframe\">\n  <thead>\n    <tr style=\"text-align: right;\">\n      <th></th>\n      <th>日期</th>\n      <th>发货城市</th>\n      <th>收货城市</th>\n      <th>快递运输数量</th>\n    </tr>\n  </thead>\n  <tbody>\n    <tr>\n      <th>0</th>\n      <td>2020-04-28</td>\n      <td>R</td>\n      <td>O</td>\n      <td>216</td>\n    </tr>\n    <tr>\n      <th>1</th>\n      <td>2020-04-28</td>\n      <td>R</td>\n      <td>L</td>\n      <td>320</td>\n    </tr>\n    <tr>\n      <th>2</th>\n      <td>2020-04-28</td>\n      <td>R</td>\n      <td>G</td>\n      <td>110</td>\n    </tr>\n    <tr>\n      <th>3</th>\n      <td>2020-04-28</td>\n      <td>R</td>\n      <td>D</td>\n      <td>96</td>\n    </tr>\n    <tr>\n      <th>4</th>\n      <td>2020-04-28</td>\n      <td>P</td>\n      <td>D</td>\n      <td>144</td>\n    </tr>\n    <tr>\n      <th>...</th>\n      <td>...</td>\n      <td>...</td>\n      <td>...</td>\n      <td>...</td>\n    </tr>\n    <tr>\n      <th>53861</th>\n      <td>2023-04-27</td>\n      <td>I</td>\n      <td>S</td>\n      <td>47</td>\n    </tr>\n    <tr>\n      <th>53862</th>\n      <td>2023-04-27</td>\n      <td>I</td>\n      <td>E</td>\n      <td>65</td>\n    </tr>\n    <tr>\n      <th>53863</th>\n      <td>2023-04-27</td>\n      <td>J</td>\n      <td>I</td>\n      <td>337</td>\n    </tr>\n    <tr>\n      <th>53864</th>\n      <td>2023-04-27</td>\n      <td>J</td>\n      <td>K</td>\n      <td>242</td>\n    </tr>\n    <tr>\n      <th>53865</th>\n      <td>2023-04-27</td>\n      <td>J</td>\n      <td>H</td>\n      <td>48</td>\n    </tr>\n  </tbody>\n</table>\n<p>53866 rows × 4 columns</p>\n</div>"
     },
     "execution_count": 6,
     "metadata": {},
     "output_type": "execute_result"
    }
   ],
   "source": [
    "df1.columns = [\"日期\",\"发货城市\",\"收货城市\",\"快递运输数量\"]\n",
    "df1 = df1[df1[\"快递运输数量\"] > 0].reset_index(drop=True)\n",
    "df1"
   ],
   "metadata": {
    "collapsed": false
   }
  },
  {
   "cell_type": "code",
   "execution_count": 7,
   "outputs": [],
   "source": [
    "df1[\"线路\"] = df1[\"发货城市\"] +\"->\"+ df1[\"收货城市\"]"
   ],
   "metadata": {
    "collapsed": false
   }
  },
  {
   "cell_type": "code",
   "execution_count": 8,
   "outputs": [
    {
     "data": {
      "text/plain": "              日期 发货城市 收货城市  快递运输数量    线路\n0     2020-04-28    R    O     216  R->O\n1     2020-04-28    R    L     320  R->L\n2     2020-04-28    R    G     110  R->G\n3     2020-04-28    R    D      96  R->D\n4     2020-04-28    P    D     144  P->D\n...          ...  ...  ...     ...   ...\n53861 2023-04-27    I    S      47  I->S\n53862 2023-04-27    I    E      65  I->E\n53863 2023-04-27    J    I     337  J->I\n53864 2023-04-27    J    K     242  J->K\n53865 2023-04-27    J    H      48  J->H\n\n[53866 rows x 5 columns]",
      "text/html": "<div>\n<style scoped>\n    .dataframe tbody tr th:only-of-type {\n        vertical-align: middle;\n    }\n\n    .dataframe tbody tr th {\n        vertical-align: top;\n    }\n\n    .dataframe thead th {\n        text-align: right;\n    }\n</style>\n<table border=\"1\" class=\"dataframe\">\n  <thead>\n    <tr style=\"text-align: right;\">\n      <th></th>\n      <th>日期</th>\n      <th>发货城市</th>\n      <th>收货城市</th>\n      <th>快递运输数量</th>\n      <th>线路</th>\n    </tr>\n  </thead>\n  <tbody>\n    <tr>\n      <th>0</th>\n      <td>2020-04-28</td>\n      <td>R</td>\n      <td>O</td>\n      <td>216</td>\n      <td>R-&gt;O</td>\n    </tr>\n    <tr>\n      <th>1</th>\n      <td>2020-04-28</td>\n      <td>R</td>\n      <td>L</td>\n      <td>320</td>\n      <td>R-&gt;L</td>\n    </tr>\n    <tr>\n      <th>2</th>\n      <td>2020-04-28</td>\n      <td>R</td>\n      <td>G</td>\n      <td>110</td>\n      <td>R-&gt;G</td>\n    </tr>\n    <tr>\n      <th>3</th>\n      <td>2020-04-28</td>\n      <td>R</td>\n      <td>D</td>\n      <td>96</td>\n      <td>R-&gt;D</td>\n    </tr>\n    <tr>\n      <th>4</th>\n      <td>2020-04-28</td>\n      <td>P</td>\n      <td>D</td>\n      <td>144</td>\n      <td>P-&gt;D</td>\n    </tr>\n    <tr>\n      <th>...</th>\n      <td>...</td>\n      <td>...</td>\n      <td>...</td>\n      <td>...</td>\n      <td>...</td>\n    </tr>\n    <tr>\n      <th>53861</th>\n      <td>2023-04-27</td>\n      <td>I</td>\n      <td>S</td>\n      <td>47</td>\n      <td>I-&gt;S</td>\n    </tr>\n    <tr>\n      <th>53862</th>\n      <td>2023-04-27</td>\n      <td>I</td>\n      <td>E</td>\n      <td>65</td>\n      <td>I-&gt;E</td>\n    </tr>\n    <tr>\n      <th>53863</th>\n      <td>2023-04-27</td>\n      <td>J</td>\n      <td>I</td>\n      <td>337</td>\n      <td>J-&gt;I</td>\n    </tr>\n    <tr>\n      <th>53864</th>\n      <td>2023-04-27</td>\n      <td>J</td>\n      <td>K</td>\n      <td>242</td>\n      <td>J-&gt;K</td>\n    </tr>\n    <tr>\n      <th>53865</th>\n      <td>2023-04-27</td>\n      <td>J</td>\n      <td>H</td>\n      <td>48</td>\n      <td>J-&gt;H</td>\n    </tr>\n  </tbody>\n</table>\n<p>53866 rows × 5 columns</p>\n</div>"
     },
     "execution_count": 8,
     "metadata": {},
     "output_type": "execute_result"
    }
   ],
   "source": [
    "df1"
   ],
   "metadata": {
    "collapsed": false
   }
  },
  {
   "cell_type": "code",
   "execution_count": 9,
   "outputs": [],
   "source": [
    "df1[\"年份\"] = df1.日期.dt.year\n",
    "df1[\"季度\"] = df1.日期.dt.quarter"
   ],
   "metadata": {
    "collapsed": false
   }
  },
  {
   "cell_type": "code",
   "execution_count": 10,
   "outputs": [],
   "source": [
    "# 筛选出需要的线路和年份数据\n",
    "df_V2N = df1[(df1[\"线路\"] == \"V->N\") & (df1[\"年份\"] == 2022)&(df1[\"季度\"] == 3)]\n",
    "df_V2Q = df1[(df1[\"线路\"] == \"V->Q\") & (df1[\"年份\"] == 2022)&(df1[\"季度\"] == 3)]\n",
    "df_J2I = df1[(df1[\"线路\"] == \"J->I\") & (df1[\"年份\"] == 2023)&(df1[\"季度\"] == 1)]\n",
    "df_O2G = df1[(df1[\"线路\"] == \"O->G\") & (df1[\"年份\"] == 2023)&(df1[\"季度\"] == 1)]"
   ],
   "metadata": {
    "collapsed": false
   }
  },
  {
   "cell_type": "code",
   "execution_count": 11,
   "outputs": [
    {
     "data": {
      "text/plain": "              日期 发货城市 收货城市  快递运输数量    线路    年份  季度\n36457 2022-07-01    V    N     163  V->N  2022   3\n36540 2022-07-02    V    N     184  V->N  2022   3\n36623 2022-07-03    V    N     170  V->N  2022   3\n36708 2022-07-04    V    N     202  V->N  2022   3\n36793 2022-07-05    V    N     245  V->N  2022   3\n...          ...  ...  ...     ...   ...   ...  ..\n41868 2022-09-22    V    N      42  V->N  2022   3\n41903 2022-09-23    V    N      42  V->N  2022   3\n42051 2022-09-28    V    N      44  V->N  2022   3\n42091 2022-09-29    V    N      44  V->N  2022   3\n42139 2022-09-30    V    N      43  V->N  2022   3\n\n[84 rows x 7 columns]",
      "text/html": "<div>\n<style scoped>\n    .dataframe tbody tr th:only-of-type {\n        vertical-align: middle;\n    }\n\n    .dataframe tbody tr th {\n        vertical-align: top;\n    }\n\n    .dataframe thead th {\n        text-align: right;\n    }\n</style>\n<table border=\"1\" class=\"dataframe\">\n  <thead>\n    <tr style=\"text-align: right;\">\n      <th></th>\n      <th>日期</th>\n      <th>发货城市</th>\n      <th>收货城市</th>\n      <th>快递运输数量</th>\n      <th>线路</th>\n      <th>年份</th>\n      <th>季度</th>\n    </tr>\n  </thead>\n  <tbody>\n    <tr>\n      <th>36457</th>\n      <td>2022-07-01</td>\n      <td>V</td>\n      <td>N</td>\n      <td>163</td>\n      <td>V-&gt;N</td>\n      <td>2022</td>\n      <td>3</td>\n    </tr>\n    <tr>\n      <th>36540</th>\n      <td>2022-07-02</td>\n      <td>V</td>\n      <td>N</td>\n      <td>184</td>\n      <td>V-&gt;N</td>\n      <td>2022</td>\n      <td>3</td>\n    </tr>\n    <tr>\n      <th>36623</th>\n      <td>2022-07-03</td>\n      <td>V</td>\n      <td>N</td>\n      <td>170</td>\n      <td>V-&gt;N</td>\n      <td>2022</td>\n      <td>3</td>\n    </tr>\n    <tr>\n      <th>36708</th>\n      <td>2022-07-04</td>\n      <td>V</td>\n      <td>N</td>\n      <td>202</td>\n      <td>V-&gt;N</td>\n      <td>2022</td>\n      <td>3</td>\n    </tr>\n    <tr>\n      <th>36793</th>\n      <td>2022-07-05</td>\n      <td>V</td>\n      <td>N</td>\n      <td>245</td>\n      <td>V-&gt;N</td>\n      <td>2022</td>\n      <td>3</td>\n    </tr>\n    <tr>\n      <th>...</th>\n      <td>...</td>\n      <td>...</td>\n      <td>...</td>\n      <td>...</td>\n      <td>...</td>\n      <td>...</td>\n      <td>...</td>\n    </tr>\n    <tr>\n      <th>41868</th>\n      <td>2022-09-22</td>\n      <td>V</td>\n      <td>N</td>\n      <td>42</td>\n      <td>V-&gt;N</td>\n      <td>2022</td>\n      <td>3</td>\n    </tr>\n    <tr>\n      <th>41903</th>\n      <td>2022-09-23</td>\n      <td>V</td>\n      <td>N</td>\n      <td>42</td>\n      <td>V-&gt;N</td>\n      <td>2022</td>\n      <td>3</td>\n    </tr>\n    <tr>\n      <th>42051</th>\n      <td>2022-09-28</td>\n      <td>V</td>\n      <td>N</td>\n      <td>44</td>\n      <td>V-&gt;N</td>\n      <td>2022</td>\n      <td>3</td>\n    </tr>\n    <tr>\n      <th>42091</th>\n      <td>2022-09-29</td>\n      <td>V</td>\n      <td>N</td>\n      <td>44</td>\n      <td>V-&gt;N</td>\n      <td>2022</td>\n      <td>3</td>\n    </tr>\n    <tr>\n      <th>42139</th>\n      <td>2022-09-30</td>\n      <td>V</td>\n      <td>N</td>\n      <td>43</td>\n      <td>V-&gt;N</td>\n      <td>2022</td>\n      <td>3</td>\n    </tr>\n  </tbody>\n</table>\n<p>84 rows × 7 columns</p>\n</div>"
     },
     "execution_count": 11,
     "metadata": {},
     "output_type": "execute_result"
    }
   ],
   "source": [
    "df_V2N"
   ],
   "metadata": {
    "collapsed": false
   }
  },
  {
   "cell_type": "code",
   "execution_count": 12,
   "outputs": [
    {
     "data": {
      "text/plain": "              日期 发货城市 收货城市  快递运输数量    线路    年份  季度\n36456 2022-07-01    V    Q     148  V->Q  2022   3\n36539 2022-07-02    V    Q     164  V->Q  2022   3\n36622 2022-07-03    V    Q     159  V->Q  2022   3\n36707 2022-07-04    V    Q     142  V->Q  2022   3\n36792 2022-07-05    V    Q     171  V->Q  2022   3\n...          ...  ...  ...     ...   ...   ...  ..\n41477 2022-09-13    V    Q      42  V->Q  2022   3\n41572 2022-09-15    V    Q      42  V->Q  2022   3\n41618 2022-09-16    V    Q      42  V->Q  2022   3\n41710 2022-09-18    V    Q      42  V->Q  2022   3\n42092 2022-09-29    V    Q      42  V->Q  2022   3\n\n[64 rows x 7 columns]",
      "text/html": "<div>\n<style scoped>\n    .dataframe tbody tr th:only-of-type {\n        vertical-align: middle;\n    }\n\n    .dataframe tbody tr th {\n        vertical-align: top;\n    }\n\n    .dataframe thead th {\n        text-align: right;\n    }\n</style>\n<table border=\"1\" class=\"dataframe\">\n  <thead>\n    <tr style=\"text-align: right;\">\n      <th></th>\n      <th>日期</th>\n      <th>发货城市</th>\n      <th>收货城市</th>\n      <th>快递运输数量</th>\n      <th>线路</th>\n      <th>年份</th>\n      <th>季度</th>\n    </tr>\n  </thead>\n  <tbody>\n    <tr>\n      <th>36456</th>\n      <td>2022-07-01</td>\n      <td>V</td>\n      <td>Q</td>\n      <td>148</td>\n      <td>V-&gt;Q</td>\n      <td>2022</td>\n      <td>3</td>\n    </tr>\n    <tr>\n      <th>36539</th>\n      <td>2022-07-02</td>\n      <td>V</td>\n      <td>Q</td>\n      <td>164</td>\n      <td>V-&gt;Q</td>\n      <td>2022</td>\n      <td>3</td>\n    </tr>\n    <tr>\n      <th>36622</th>\n      <td>2022-07-03</td>\n      <td>V</td>\n      <td>Q</td>\n      <td>159</td>\n      <td>V-&gt;Q</td>\n      <td>2022</td>\n      <td>3</td>\n    </tr>\n    <tr>\n      <th>36707</th>\n      <td>2022-07-04</td>\n      <td>V</td>\n      <td>Q</td>\n      <td>142</td>\n      <td>V-&gt;Q</td>\n      <td>2022</td>\n      <td>3</td>\n    </tr>\n    <tr>\n      <th>36792</th>\n      <td>2022-07-05</td>\n      <td>V</td>\n      <td>Q</td>\n      <td>171</td>\n      <td>V-&gt;Q</td>\n      <td>2022</td>\n      <td>3</td>\n    </tr>\n    <tr>\n      <th>...</th>\n      <td>...</td>\n      <td>...</td>\n      <td>...</td>\n      <td>...</td>\n      <td>...</td>\n      <td>...</td>\n      <td>...</td>\n    </tr>\n    <tr>\n      <th>41477</th>\n      <td>2022-09-13</td>\n      <td>V</td>\n      <td>Q</td>\n      <td>42</td>\n      <td>V-&gt;Q</td>\n      <td>2022</td>\n      <td>3</td>\n    </tr>\n    <tr>\n      <th>41572</th>\n      <td>2022-09-15</td>\n      <td>V</td>\n      <td>Q</td>\n      <td>42</td>\n      <td>V-&gt;Q</td>\n      <td>2022</td>\n      <td>3</td>\n    </tr>\n    <tr>\n      <th>41618</th>\n      <td>2022-09-16</td>\n      <td>V</td>\n      <td>Q</td>\n      <td>42</td>\n      <td>V-&gt;Q</td>\n      <td>2022</td>\n      <td>3</td>\n    </tr>\n    <tr>\n      <th>41710</th>\n      <td>2022-09-18</td>\n      <td>V</td>\n      <td>Q</td>\n      <td>42</td>\n      <td>V-&gt;Q</td>\n      <td>2022</td>\n      <td>3</td>\n    </tr>\n    <tr>\n      <th>42092</th>\n      <td>2022-09-29</td>\n      <td>V</td>\n      <td>Q</td>\n      <td>42</td>\n      <td>V-&gt;Q</td>\n      <td>2022</td>\n      <td>3</td>\n    </tr>\n  </tbody>\n</table>\n<p>64 rows × 7 columns</p>\n</div>"
     },
     "execution_count": 12,
     "metadata": {},
     "output_type": "execute_result"
    }
   ],
   "source": [
    "df_V2Q"
   ],
   "metadata": {
    "collapsed": false
   }
  },
  {
   "cell_type": "code",
   "execution_count": 17,
   "outputs": [],
   "source": [
    "result_V2N=seasonal_decompose(df_V2N[\"快递运输数量\"], model='addtive', period=10)\n",
    "result_V2Q=seasonal_decompose(df_V2Q[\"快递运输数量\"], model='addtive', period=7)\n",
    "result_J2I=seasonal_decompose(df_J2I[\"快递运输数量\"], model='addtive', period=10)\n",
    "result_O2G=seasonal_decompose(df_O2G[\"快递运输数量\"], model='addtive', period=7)"
   ],
   "metadata": {
    "collapsed": false
   }
  },
  {
   "cell_type": "code",
   "execution_count": 18,
   "outputs": [],
   "source": [
    "## 固定需求的值,取整\n",
    "V2N_min = np.int32(result_V2N.trend.fillna(value=10000).min())\n",
    "V2Q_min = np.int32(result_V2Q.trend.fillna(value=10000).min())\n",
    "J2I_min = np.int32(result_J2I.trend.fillna(value=10000).min())\n",
    "O2G_min = np.int32(result_O2G.trend.fillna(value=10000).min())"
   ],
   "metadata": {
    "collapsed": false
   }
  },
  {
   "cell_type": "code",
   "execution_count": 19,
   "outputs": [],
   "source": [
    "df_result = pd.DataFrame({\n",
    "    '线路': ['V->N', 'V->Q', 'J->I', 'O->G'],\n",
    "    '年份': [2022, 2022, 2023, 2023],\n",
    "    '季度': [3, 3, 1, 1],\n",
    "    '固定需求常数': [V2N_min, V2Q_min, J2I_min, O2G_min]\n",
    "})"
   ],
   "metadata": {
    "collapsed": false
   }
  },
  {
   "cell_type": "code",
   "execution_count": 20,
   "outputs": [
    {
     "data": {
      "text/plain": "     线路    年份  季度  固定需求常数\n0  V->N  2022   3      43\n1  V->Q  2022   3      42\n2  J->I  2023   1     112\n3  O->G  2023   1      49",
      "text/html": "<div>\n<style scoped>\n    .dataframe tbody tr th:only-of-type {\n        vertical-align: middle;\n    }\n\n    .dataframe tbody tr th {\n        vertical-align: top;\n    }\n\n    .dataframe thead th {\n        text-align: right;\n    }\n</style>\n<table border=\"1\" class=\"dataframe\">\n  <thead>\n    <tr style=\"text-align: right;\">\n      <th></th>\n      <th>线路</th>\n      <th>年份</th>\n      <th>季度</th>\n      <th>固定需求常数</th>\n    </tr>\n  </thead>\n  <tbody>\n    <tr>\n      <th>0</th>\n      <td>V-&gt;N</td>\n      <td>2022</td>\n      <td>3</td>\n      <td>43</td>\n    </tr>\n    <tr>\n      <th>1</th>\n      <td>V-&gt;Q</td>\n      <td>2022</td>\n      <td>3</td>\n      <td>42</td>\n    </tr>\n    <tr>\n      <th>2</th>\n      <td>J-&gt;I</td>\n      <td>2023</td>\n      <td>1</td>\n      <td>112</td>\n    </tr>\n    <tr>\n      <th>3</th>\n      <td>O-&gt;G</td>\n      <td>2023</td>\n      <td>1</td>\n      <td>49</td>\n    </tr>\n  </tbody>\n</table>\n</div>"
     },
     "execution_count": 20,
     "metadata": {},
     "output_type": "execute_result"
    }
   ],
   "source": [
    "df_result"
   ],
   "metadata": {
    "collapsed": false
   }
  }
 ],
 "metadata": {
  "kernelspec": {
   "display_name": "Python 3",
   "language": "python",
   "name": "python3"
  },
  "language_info": {
   "codemirror_mode": {
    "name": "ipython",
    "version": 2
   },
   "file_extension": ".py",
   "mimetype": "text/x-python",
   "name": "python",
   "nbconvert_exporter": "python",
   "pygments_lexer": "ipython2",
   "version": "2.7.6"
  }
 },
 "nbformat": 4,
 "nbformat_minor": 0
}
